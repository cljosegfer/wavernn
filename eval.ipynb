{
 "cells": [
  {
   "cell_type": "markdown",
   "metadata": {},
   "source": [
    "# setup"
   ]
  },
  {
   "cell_type": "code",
   "execution_count": 1,
   "metadata": {},
   "outputs": [],
   "source": [
    "import numpy as np\n",
    "import pandas as pd\n",
    "import soundfile as sf\n",
    "import matplotlib.pyplot as plt\n",
    "\n",
    "from tqdm import tqdm"
   ]
  },
  {
   "cell_type": "code",
   "execution_count": 2,
   "metadata": {},
   "outputs": [],
   "source": [
    "from pesq import pesq\n",
    "from pesq import PesqError"
   ]
  },
  {
   "cell_type": "code",
   "execution_count": 3,
   "metadata": {},
   "outputs": [],
   "source": [
    "import librosa\n",
    "\n",
    "from scipy.spatial.distance import euclidean\n",
    "from fastdtw import fastdtw"
   ]
  },
  {
   "cell_type": "code",
   "execution_count": 4,
   "metadata": {},
   "outputs": [],
   "source": [
    "from pystoi.stoi import stoi"
   ]
  },
  {
   "cell_type": "code",
   "execution_count": 5,
   "metadata": {},
   "outputs": [],
   "source": [
    "import sewar.full_ref as sewar"
   ]
  },
  {
   "cell_type": "code",
   "execution_count": 6,
   "metadata": {},
   "outputs": [],
   "source": [
    "from scipy.signal import lfilter, hamming\n",
    "from scipy.linalg import solve_toeplitz, toeplitz"
   ]
  },
  {
   "cell_type": "markdown",
   "metadata": {},
   "source": [
    "# data"
   ]
  },
  {
   "cell_type": "code",
   "execution_count": 7,
   "metadata": {},
   "outputs": [],
   "source": [
    "input_file = 'model_outputs/lusiadas_mol.wavernn/1000k_steps_1_gen_batched_target11000_overlap550.wav'\n",
    "reference_file = 'model_outputs/lusiadas_mol.wavernn/1000k_steps_1_target.wav'"
   ]
  },
  {
   "cell_type": "code",
   "execution_count": 8,
   "metadata": {},
   "outputs": [],
   "source": [
    "ref_files = pd.read_csv('ref_test_set.txt', header = None)\n",
    "gen_files = pd.read_csv('gen_test_set.txt', header = None)"
   ]
  },
  {
   "cell_type": "code",
   "execution_count": 9,
   "metadata": {},
   "outputs": [
    {
     "name": "stdout",
     "output_type": "stream",
     "text": [
      "model_outputs/lusiadas_mol.wavernn/1000k_steps_100_target.wav model_outputs/lusiadas_mol.wavernn/1000k_steps_100_gen_batched_target11000_overlap550.wav\n",
      "model_outputs/lusiadas_mol.wavernn/1000k_steps_101_target.wav model_outputs/lusiadas_mol.wavernn/1000k_steps_101_gen_batched_target11000_overlap550.wav\n",
      "model_outputs/lusiadas_mol.wavernn/1000k_steps_102_target.wav model_outputs/lusiadas_mol.wavernn/1000k_steps_102_gen_batched_target11000_overlap550.wav\n",
      "model_outputs/lusiadas_mol.wavernn/1000k_steps_103_target.wav model_outputs/lusiadas_mol.wavernn/1000k_steps_103_gen_batched_target11000_overlap550.wav\n",
      "model_outputs/lusiadas_mol.wavernn/1000k_steps_104_target.wav model_outputs/lusiadas_mol.wavernn/1000k_steps_104_gen_batched_target11000_overlap550.wav\n",
      "model_outputs/lusiadas_mol.wavernn/1000k_steps_105_target.wav model_outputs/lusiadas_mol.wavernn/1000k_steps_105_gen_batched_target11000_overlap550.wav\n",
      "model_outputs/lusiadas_mol.wavernn/1000k_steps_106_target.wav model_outputs/lusiadas_mol.wavernn/1000k_steps_106_gen_batched_target11000_overlap550.wav\n",
      "model_outputs/lusiadas_mol.wavernn/1000k_steps_107_target.wav model_outputs/lusiadas_mol.wavernn/1000k_steps_107_gen_batched_target11000_overlap550.wav\n",
      "model_outputs/lusiadas_mol.wavernn/1000k_steps_108_target.wav model_outputs/lusiadas_mol.wavernn/1000k_steps_108_gen_batched_target11000_overlap550.wav\n",
      "model_outputs/lusiadas_mol.wavernn/1000k_steps_109_target.wav model_outputs/lusiadas_mol.wavernn/1000k_steps_109_gen_batched_target11000_overlap550.wav\n",
      "model_outputs/lusiadas_mol.wavernn/1000k_steps_10_target.wav model_outputs/lusiadas_mol.wavernn/1000k_steps_10_gen_batched_target11000_overlap550.wav\n",
      "model_outputs/lusiadas_mol.wavernn/1000k_steps_110_target.wav model_outputs/lusiadas_mol.wavernn/1000k_steps_110_gen_batched_target11000_overlap550.wav\n",
      "model_outputs/lusiadas_mol.wavernn/1000k_steps_111_target.wav model_outputs/lusiadas_mol.wavernn/1000k_steps_111_gen_batched_target11000_overlap550.wav\n",
      "model_outputs/lusiadas_mol.wavernn/1000k_steps_112_target.wav model_outputs/lusiadas_mol.wavernn/1000k_steps_112_gen_batched_target11000_overlap550.wav\n",
      "model_outputs/lusiadas_mol.wavernn/1000k_steps_113_target.wav model_outputs/lusiadas_mol.wavernn/1000k_steps_113_gen_batched_target11000_overlap550.wav\n",
      "model_outputs/lusiadas_mol.wavernn/1000k_steps_114_target.wav model_outputs/lusiadas_mol.wavernn/1000k_steps_114_gen_batched_target11000_overlap550.wav\n",
      "model_outputs/lusiadas_mol.wavernn/1000k_steps_115_target.wav model_outputs/lusiadas_mol.wavernn/1000k_steps_115_gen_batched_target11000_overlap550.wav\n",
      "model_outputs/lusiadas_mol.wavernn/1000k_steps_116_target.wav model_outputs/lusiadas_mol.wavernn/1000k_steps_116_gen_batched_target11000_overlap550.wav\n",
      "model_outputs/lusiadas_mol.wavernn/1000k_steps_117_target.wav model_outputs/lusiadas_mol.wavernn/1000k_steps_117_gen_batched_target11000_overlap550.wav\n",
      "model_outputs/lusiadas_mol.wavernn/1000k_steps_118_target.wav model_outputs/lusiadas_mol.wavernn/1000k_steps_118_gen_batched_target11000_overlap550.wav\n",
      "model_outputs/lusiadas_mol.wavernn/1000k_steps_119_target.wav model_outputs/lusiadas_mol.wavernn/1000k_steps_119_gen_batched_target11000_overlap550.wav\n",
      "model_outputs/lusiadas_mol.wavernn/1000k_steps_11_target.wav model_outputs/lusiadas_mol.wavernn/1000k_steps_11_gen_batched_target11000_overlap550.wav\n",
      "model_outputs/lusiadas_mol.wavernn/1000k_steps_120_target.wav model_outputs/lusiadas_mol.wavernn/1000k_steps_120_gen_batched_target11000_overlap550.wav\n",
      "model_outputs/lusiadas_mol.wavernn/1000k_steps_121_target.wav model_outputs/lusiadas_mol.wavernn/1000k_steps_121_gen_batched_target11000_overlap550.wav\n",
      "model_outputs/lusiadas_mol.wavernn/1000k_steps_122_target.wav model_outputs/lusiadas_mol.wavernn/1000k_steps_122_gen_batched_target11000_overlap550.wav\n",
      "model_outputs/lusiadas_mol.wavernn/1000k_steps_123_target.wav model_outputs/lusiadas_mol.wavernn/1000k_steps_123_gen_batched_target11000_overlap550.wav\n",
      "model_outputs/lusiadas_mol.wavernn/1000k_steps_124_target.wav model_outputs/lusiadas_mol.wavernn/1000k_steps_124_gen_batched_target11000_overlap550.wav\n",
      "model_outputs/lusiadas_mol.wavernn/1000k_steps_125_target.wav model_outputs/lusiadas_mol.wavernn/1000k_steps_125_gen_batched_target11000_overlap550.wav\n",
      "model_outputs/lusiadas_mol.wavernn/1000k_steps_126_target.wav model_outputs/lusiadas_mol.wavernn/1000k_steps_126_gen_batched_target11000_overlap550.wav\n",
      "model_outputs/lusiadas_mol.wavernn/1000k_steps_127_target.wav model_outputs/lusiadas_mol.wavernn/1000k_steps_127_gen_batched_target11000_overlap550.wav\n",
      "model_outputs/lusiadas_mol.wavernn/1000k_steps_128_target.wav model_outputs/lusiadas_mol.wavernn/1000k_steps_128_gen_batched_target11000_overlap550.wav\n",
      "model_outputs/lusiadas_mol.wavernn/1000k_steps_129_target.wav model_outputs/lusiadas_mol.wavernn/1000k_steps_129_gen_batched_target11000_overlap550.wav\n",
      "model_outputs/lusiadas_mol.wavernn/1000k_steps_12_target.wav model_outputs/lusiadas_mol.wavernn/1000k_steps_12_gen_batched_target11000_overlap550.wav\n",
      "model_outputs/lusiadas_mol.wavernn/1000k_steps_130_target.wav model_outputs/lusiadas_mol.wavernn/1000k_steps_130_gen_batched_target11000_overlap550.wav\n",
      "model_outputs/lusiadas_mol.wavernn/1000k_steps_131_target.wav model_outputs/lusiadas_mol.wavernn/1000k_steps_131_gen_batched_target11000_overlap550.wav\n",
      "model_outputs/lusiadas_mol.wavernn/1000k_steps_132_target.wav model_outputs/lusiadas_mol.wavernn/1000k_steps_132_gen_batched_target11000_overlap550.wav\n",
      "model_outputs/lusiadas_mol.wavernn/1000k_steps_133_target.wav model_outputs/lusiadas_mol.wavernn/1000k_steps_133_gen_batched_target11000_overlap550.wav\n",
      "model_outputs/lusiadas_mol.wavernn/1000k_steps_134_target.wav model_outputs/lusiadas_mol.wavernn/1000k_steps_134_gen_batched_target11000_overlap550.wav\n",
      "model_outputs/lusiadas_mol.wavernn/1000k_steps_135_target.wav model_outputs/lusiadas_mol.wavernn/1000k_steps_135_gen_batched_target11000_overlap550.wav\n",
      "model_outputs/lusiadas_mol.wavernn/1000k_steps_136_target.wav model_outputs/lusiadas_mol.wavernn/1000k_steps_136_gen_batched_target11000_overlap550.wav\n",
      "model_outputs/lusiadas_mol.wavernn/1000k_steps_137_target.wav model_outputs/lusiadas_mol.wavernn/1000k_steps_137_gen_batched_target11000_overlap550.wav\n",
      "model_outputs/lusiadas_mol.wavernn/1000k_steps_138_target.wav model_outputs/lusiadas_mol.wavernn/1000k_steps_138_gen_batched_target11000_overlap550.wav\n",
      "model_outputs/lusiadas_mol.wavernn/1000k_steps_139_target.wav model_outputs/lusiadas_mol.wavernn/1000k_steps_139_gen_batched_target11000_overlap550.wav\n",
      "model_outputs/lusiadas_mol.wavernn/1000k_steps_13_target.wav model_outputs/lusiadas_mol.wavernn/1000k_steps_13_gen_batched_target11000_overlap550.wav\n",
      "model_outputs/lusiadas_mol.wavernn/1000k_steps_140_target.wav model_outputs/lusiadas_mol.wavernn/1000k_steps_140_gen_batched_target11000_overlap550.wav\n",
      "model_outputs/lusiadas_mol.wavernn/1000k_steps_141_target.wav model_outputs/lusiadas_mol.wavernn/1000k_steps_141_gen_batched_target11000_overlap550.wav\n",
      "model_outputs/lusiadas_mol.wavernn/1000k_steps_142_target.wav model_outputs/lusiadas_mol.wavernn/1000k_steps_142_gen_batched_target11000_overlap550.wav\n",
      "model_outputs/lusiadas_mol.wavernn/1000k_steps_143_target.wav model_outputs/lusiadas_mol.wavernn/1000k_steps_143_gen_batched_target11000_overlap550.wav\n",
      "model_outputs/lusiadas_mol.wavernn/1000k_steps_144_target.wav model_outputs/lusiadas_mol.wavernn/1000k_steps_144_gen_batched_target11000_overlap550.wav\n",
      "model_outputs/lusiadas_mol.wavernn/1000k_steps_145_target.wav model_outputs/lusiadas_mol.wavernn/1000k_steps_145_gen_batched_target11000_overlap550.wav\n",
      "model_outputs/lusiadas_mol.wavernn/1000k_steps_146_target.wav model_outputs/lusiadas_mol.wavernn/1000k_steps_146_gen_batched_target11000_overlap550.wav\n",
      "model_outputs/lusiadas_mol.wavernn/1000k_steps_147_target.wav model_outputs/lusiadas_mol.wavernn/1000k_steps_147_gen_batched_target11000_overlap550.wav\n",
      "model_outputs/lusiadas_mol.wavernn/1000k_steps_148_target.wav model_outputs/lusiadas_mol.wavernn/1000k_steps_148_gen_batched_target11000_overlap550.wav\n",
      "model_outputs/lusiadas_mol.wavernn/1000k_steps_149_target.wav model_outputs/lusiadas_mol.wavernn/1000k_steps_149_gen_batched_target11000_overlap550.wav\n",
      "model_outputs/lusiadas_mol.wavernn/1000k_steps_14_target.wav model_outputs/lusiadas_mol.wavernn/1000k_steps_14_gen_batched_target11000_overlap550.wav\n",
      "model_outputs/lusiadas_mol.wavernn/1000k_steps_150_target.wav model_outputs/lusiadas_mol.wavernn/1000k_steps_150_gen_batched_target11000_overlap550.wav\n",
      "model_outputs/lusiadas_mol.wavernn/1000k_steps_151_target.wav model_outputs/lusiadas_mol.wavernn/1000k_steps_151_gen_batched_target11000_overlap550.wav\n",
      "model_outputs/lusiadas_mol.wavernn/1000k_steps_152_target.wav model_outputs/lusiadas_mol.wavernn/1000k_steps_152_gen_batched_target11000_overlap550.wav\n",
      "model_outputs/lusiadas_mol.wavernn/1000k_steps_153_target.wav model_outputs/lusiadas_mol.wavernn/1000k_steps_153_gen_batched_target11000_overlap550.wav\n",
      "model_outputs/lusiadas_mol.wavernn/1000k_steps_154_target.wav model_outputs/lusiadas_mol.wavernn/1000k_steps_154_gen_batched_target11000_overlap550.wav\n",
      "model_outputs/lusiadas_mol.wavernn/1000k_steps_155_target.wav model_outputs/lusiadas_mol.wavernn/1000k_steps_155_gen_batched_target11000_overlap550.wav\n",
      "model_outputs/lusiadas_mol.wavernn/1000k_steps_156_target.wav model_outputs/lusiadas_mol.wavernn/1000k_steps_156_gen_batched_target11000_overlap550.wav\n",
      "model_outputs/lusiadas_mol.wavernn/1000k_steps_157_target.wav model_outputs/lusiadas_mol.wavernn/1000k_steps_157_gen_batched_target11000_overlap550.wav\n",
      "model_outputs/lusiadas_mol.wavernn/1000k_steps_158_target.wav model_outputs/lusiadas_mol.wavernn/1000k_steps_158_gen_batched_target11000_overlap550.wav\n",
      "model_outputs/lusiadas_mol.wavernn/1000k_steps_159_target.wav model_outputs/lusiadas_mol.wavernn/1000k_steps_159_gen_batched_target11000_overlap550.wav\n",
      "model_outputs/lusiadas_mol.wavernn/1000k_steps_15_target.wav model_outputs/lusiadas_mol.wavernn/1000k_steps_15_gen_batched_target11000_overlap550.wav\n",
      "model_outputs/lusiadas_mol.wavernn/1000k_steps_160_target.wav model_outputs/lusiadas_mol.wavernn/1000k_steps_160_gen_batched_target11000_overlap550.wav\n",
      "model_outputs/lusiadas_mol.wavernn/1000k_steps_161_target.wav model_outputs/lusiadas_mol.wavernn/1000k_steps_161_gen_batched_target11000_overlap550.wav\n",
      "model_outputs/lusiadas_mol.wavernn/1000k_steps_162_target.wav model_outputs/lusiadas_mol.wavernn/1000k_steps_162_gen_batched_target11000_overlap550.wav\n",
      "model_outputs/lusiadas_mol.wavernn/1000k_steps_163_target.wav model_outputs/lusiadas_mol.wavernn/1000k_steps_163_gen_batched_target11000_overlap550.wav\n",
      "model_outputs/lusiadas_mol.wavernn/1000k_steps_164_target.wav model_outputs/lusiadas_mol.wavernn/1000k_steps_164_gen_batched_target11000_overlap550.wav\n",
      "model_outputs/lusiadas_mol.wavernn/1000k_steps_165_target.wav model_outputs/lusiadas_mol.wavernn/1000k_steps_165_gen_batched_target11000_overlap550.wav\n",
      "model_outputs/lusiadas_mol.wavernn/1000k_steps_166_target.wav model_outputs/lusiadas_mol.wavernn/1000k_steps_166_gen_batched_target11000_overlap550.wav\n",
      "model_outputs/lusiadas_mol.wavernn/1000k_steps_167_target.wav model_outputs/lusiadas_mol.wavernn/1000k_steps_167_gen_batched_target11000_overlap550.wav\n",
      "model_outputs/lusiadas_mol.wavernn/1000k_steps_168_target.wav model_outputs/lusiadas_mol.wavernn/1000k_steps_168_gen_batched_target11000_overlap550.wav\n",
      "model_outputs/lusiadas_mol.wavernn/1000k_steps_169_target.wav model_outputs/lusiadas_mol.wavernn/1000k_steps_169_gen_batched_target11000_overlap550.wav\n",
      "model_outputs/lusiadas_mol.wavernn/1000k_steps_16_target.wav model_outputs/lusiadas_mol.wavernn/1000k_steps_16_gen_batched_target11000_overlap550.wav\n",
      "model_outputs/lusiadas_mol.wavernn/1000k_steps_170_target.wav model_outputs/lusiadas_mol.wavernn/1000k_steps_170_gen_batched_target11000_overlap550.wav\n",
      "model_outputs/lusiadas_mol.wavernn/1000k_steps_171_target.wav model_outputs/lusiadas_mol.wavernn/1000k_steps_171_gen_batched_target11000_overlap550.wav\n",
      "model_outputs/lusiadas_mol.wavernn/1000k_steps_172_target.wav model_outputs/lusiadas_mol.wavernn/1000k_steps_172_gen_batched_target11000_overlap550.wav\n",
      "model_outputs/lusiadas_mol.wavernn/1000k_steps_173_target.wav model_outputs/lusiadas_mol.wavernn/1000k_steps_173_gen_batched_target11000_overlap550.wav\n",
      "model_outputs/lusiadas_mol.wavernn/1000k_steps_174_target.wav model_outputs/lusiadas_mol.wavernn/1000k_steps_174_gen_batched_target11000_overlap550.wav\n",
      "model_outputs/lusiadas_mol.wavernn/1000k_steps_175_target.wav model_outputs/lusiadas_mol.wavernn/1000k_steps_175_gen_batched_target11000_overlap550.wav\n",
      "model_outputs/lusiadas_mol.wavernn/1000k_steps_176_target.wav model_outputs/lusiadas_mol.wavernn/1000k_steps_176_gen_batched_target11000_overlap550.wav\n",
      "model_outputs/lusiadas_mol.wavernn/1000k_steps_177_target.wav model_outputs/lusiadas_mol.wavernn/1000k_steps_177_gen_batched_target11000_overlap550.wav\n",
      "model_outputs/lusiadas_mol.wavernn/1000k_steps_178_target.wav model_outputs/lusiadas_mol.wavernn/1000k_steps_178_gen_batched_target11000_overlap550.wav\n",
      "model_outputs/lusiadas_mol.wavernn/1000k_steps_179_target.wav model_outputs/lusiadas_mol.wavernn/1000k_steps_179_gen_batched_target11000_overlap550.wav\n",
      "model_outputs/lusiadas_mol.wavernn/1000k_steps_17_target.wav model_outputs/lusiadas_mol.wavernn/1000k_steps_17_gen_batched_target11000_overlap550.wav\n",
      "model_outputs/lusiadas_mol.wavernn/1000k_steps_180_target.wav model_outputs/lusiadas_mol.wavernn/1000k_steps_180_gen_batched_target11000_overlap550.wav\n",
      "model_outputs/lusiadas_mol.wavernn/1000k_steps_181_target.wav model_outputs/lusiadas_mol.wavernn/1000k_steps_181_gen_batched_target11000_overlap550.wav\n",
      "model_outputs/lusiadas_mol.wavernn/1000k_steps_182_target.wav model_outputs/lusiadas_mol.wavernn/1000k_steps_182_gen_batched_target11000_overlap550.wav\n",
      "model_outputs/lusiadas_mol.wavernn/1000k_steps_183_target.wav model_outputs/lusiadas_mol.wavernn/1000k_steps_183_gen_batched_target11000_overlap550.wav\n",
      "model_outputs/lusiadas_mol.wavernn/1000k_steps_184_target.wav model_outputs/lusiadas_mol.wavernn/1000k_steps_184_gen_batched_target11000_overlap550.wav\n",
      "model_outputs/lusiadas_mol.wavernn/1000k_steps_185_target.wav model_outputs/lusiadas_mol.wavernn/1000k_steps_185_gen_batched_target11000_overlap550.wav\n",
      "model_outputs/lusiadas_mol.wavernn/1000k_steps_186_target.wav model_outputs/lusiadas_mol.wavernn/1000k_steps_186_gen_batched_target11000_overlap550.wav\n",
      "model_outputs/lusiadas_mol.wavernn/1000k_steps_187_target.wav model_outputs/lusiadas_mol.wavernn/1000k_steps_187_gen_batched_target11000_overlap550.wav\n",
      "model_outputs/lusiadas_mol.wavernn/1000k_steps_188_target.wav model_outputs/lusiadas_mol.wavernn/1000k_steps_188_gen_batched_target11000_overlap550.wav\n",
      "model_outputs/lusiadas_mol.wavernn/1000k_steps_189_target.wav model_outputs/lusiadas_mol.wavernn/1000k_steps_189_gen_batched_target11000_overlap550.wav\n",
      "model_outputs/lusiadas_mol.wavernn/1000k_steps_18_target.wav model_outputs/lusiadas_mol.wavernn/1000k_steps_18_gen_batched_target11000_overlap550.wav\n",
      "model_outputs/lusiadas_mol.wavernn/1000k_steps_190_target.wav model_outputs/lusiadas_mol.wavernn/1000k_steps_190_gen_batched_target11000_overlap550.wav\n",
      "model_outputs/lusiadas_mol.wavernn/1000k_steps_191_target.wav model_outputs/lusiadas_mol.wavernn/1000k_steps_191_gen_batched_target11000_overlap550.wav\n",
      "model_outputs/lusiadas_mol.wavernn/1000k_steps_192_target.wav model_outputs/lusiadas_mol.wavernn/1000k_steps_192_gen_batched_target11000_overlap550.wav\n",
      "model_outputs/lusiadas_mol.wavernn/1000k_steps_193_target.wav model_outputs/lusiadas_mol.wavernn/1000k_steps_193_gen_batched_target11000_overlap550.wav\n",
      "model_outputs/lusiadas_mol.wavernn/1000k_steps_194_target.wav model_outputs/lusiadas_mol.wavernn/1000k_steps_194_gen_batched_target11000_overlap550.wav\n",
      "model_outputs/lusiadas_mol.wavernn/1000k_steps_195_target.wav model_outputs/lusiadas_mol.wavernn/1000k_steps_195_gen_batched_target11000_overlap550.wav\n",
      "model_outputs/lusiadas_mol.wavernn/1000k_steps_196_target.wav model_outputs/lusiadas_mol.wavernn/1000k_steps_196_gen_batched_target11000_overlap550.wav\n",
      "model_outputs/lusiadas_mol.wavernn/1000k_steps_197_target.wav model_outputs/lusiadas_mol.wavernn/1000k_steps_197_gen_batched_target11000_overlap550.wav\n",
      "model_outputs/lusiadas_mol.wavernn/1000k_steps_198_target.wav model_outputs/lusiadas_mol.wavernn/1000k_steps_198_gen_batched_target11000_overlap550.wav\n",
      "model_outputs/lusiadas_mol.wavernn/1000k_steps_199_target.wav model_outputs/lusiadas_mol.wavernn/1000k_steps_199_gen_batched_target11000_overlap550.wav\n",
      "model_outputs/lusiadas_mol.wavernn/1000k_steps_19_target.wav model_outputs/lusiadas_mol.wavernn/1000k_steps_19_gen_batched_target11000_overlap550.wav\n",
      "model_outputs/lusiadas_mol.wavernn/1000k_steps_1_target.wav model_outputs/lusiadas_mol.wavernn/1000k_steps_1_gen_batched_target11000_overlap550.wav\n",
      "model_outputs/lusiadas_mol.wavernn/1000k_steps_200_target.wav model_outputs/lusiadas_mol.wavernn/1000k_steps_200_gen_batched_target11000_overlap550.wav\n",
      "model_outputs/lusiadas_mol.wavernn/1000k_steps_201_target.wav model_outputs/lusiadas_mol.wavernn/1000k_steps_201_gen_batched_target11000_overlap550.wav\n",
      "model_outputs/lusiadas_mol.wavernn/1000k_steps_202_target.wav model_outputs/lusiadas_mol.wavernn/1000k_steps_202_gen_batched_target11000_overlap550.wav\n",
      "model_outputs/lusiadas_mol.wavernn/1000k_steps_203_target.wav model_outputs/lusiadas_mol.wavernn/1000k_steps_203_gen_batched_target11000_overlap550.wav\n",
      "model_outputs/lusiadas_mol.wavernn/1000k_steps_204_target.wav model_outputs/lusiadas_mol.wavernn/1000k_steps_204_gen_batched_target11000_overlap550.wav\n",
      "model_outputs/lusiadas_mol.wavernn/1000k_steps_205_target.wav model_outputs/lusiadas_mol.wavernn/1000k_steps_205_gen_batched_target11000_overlap550.wav\n",
      "model_outputs/lusiadas_mol.wavernn/1000k_steps_206_target.wav model_outputs/lusiadas_mol.wavernn/1000k_steps_206_gen_batched_target11000_overlap550.wav\n",
      "model_outputs/lusiadas_mol.wavernn/1000k_steps_207_target.wav model_outputs/lusiadas_mol.wavernn/1000k_steps_207_gen_batched_target11000_overlap550.wav\n",
      "model_outputs/lusiadas_mol.wavernn/1000k_steps_208_target.wav model_outputs/lusiadas_mol.wavernn/1000k_steps_208_gen_batched_target11000_overlap550.wav\n",
      "model_outputs/lusiadas_mol.wavernn/1000k_steps_209_target.wav model_outputs/lusiadas_mol.wavernn/1000k_steps_209_gen_batched_target11000_overlap550.wav\n",
      "model_outputs/lusiadas_mol.wavernn/1000k_steps_20_target.wav model_outputs/lusiadas_mol.wavernn/1000k_steps_20_gen_batched_target11000_overlap550.wav\n",
      "model_outputs/lusiadas_mol.wavernn/1000k_steps_210_target.wav model_outputs/lusiadas_mol.wavernn/1000k_steps_210_gen_batched_target11000_overlap550.wav\n",
      "model_outputs/lusiadas_mol.wavernn/1000k_steps_211_target.wav model_outputs/lusiadas_mol.wavernn/1000k_steps_211_gen_batched_target11000_overlap550.wav\n",
      "model_outputs/lusiadas_mol.wavernn/1000k_steps_212_target.wav model_outputs/lusiadas_mol.wavernn/1000k_steps_212_gen_batched_target11000_overlap550.wav\n",
      "model_outputs/lusiadas_mol.wavernn/1000k_steps_213_target.wav model_outputs/lusiadas_mol.wavernn/1000k_steps_213_gen_batched_target11000_overlap550.wav\n",
      "model_outputs/lusiadas_mol.wavernn/1000k_steps_214_target.wav model_outputs/lusiadas_mol.wavernn/1000k_steps_214_gen_batched_target11000_overlap550.wav\n",
      "model_outputs/lusiadas_mol.wavernn/1000k_steps_215_target.wav model_outputs/lusiadas_mol.wavernn/1000k_steps_215_gen_batched_target11000_overlap550.wav\n",
      "model_outputs/lusiadas_mol.wavernn/1000k_steps_216_target.wav model_outputs/lusiadas_mol.wavernn/1000k_steps_216_gen_batched_target11000_overlap550.wav\n",
      "model_outputs/lusiadas_mol.wavernn/1000k_steps_217_target.wav model_outputs/lusiadas_mol.wavernn/1000k_steps_217_gen_batched_target11000_overlap550.wav\n",
      "model_outputs/lusiadas_mol.wavernn/1000k_steps_218_target.wav model_outputs/lusiadas_mol.wavernn/1000k_steps_218_gen_batched_target11000_overlap550.wav\n",
      "model_outputs/lusiadas_mol.wavernn/1000k_steps_219_target.wav model_outputs/lusiadas_mol.wavernn/1000k_steps_219_gen_batched_target11000_overlap550.wav\n",
      "model_outputs/lusiadas_mol.wavernn/1000k_steps_21_target.wav model_outputs/lusiadas_mol.wavernn/1000k_steps_21_gen_batched_target11000_overlap550.wav\n",
      "model_outputs/lusiadas_mol.wavernn/1000k_steps_220_target.wav model_outputs/lusiadas_mol.wavernn/1000k_steps_220_gen_batched_target11000_overlap550.wav\n",
      "model_outputs/lusiadas_mol.wavernn/1000k_steps_221_target.wav model_outputs/lusiadas_mol.wavernn/1000k_steps_221_gen_batched_target11000_overlap550.wav\n",
      "model_outputs/lusiadas_mol.wavernn/1000k_steps_222_target.wav model_outputs/lusiadas_mol.wavernn/1000k_steps_222_gen_batched_target11000_overlap550.wav\n",
      "model_outputs/lusiadas_mol.wavernn/1000k_steps_223_target.wav model_outputs/lusiadas_mol.wavernn/1000k_steps_223_gen_batched_target11000_overlap550.wav\n",
      "model_outputs/lusiadas_mol.wavernn/1000k_steps_224_target.wav model_outputs/lusiadas_mol.wavernn/1000k_steps_224_gen_batched_target11000_overlap550.wav\n",
      "model_outputs/lusiadas_mol.wavernn/1000k_steps_225_target.wav model_outputs/lusiadas_mol.wavernn/1000k_steps_225_gen_batched_target11000_overlap550.wav\n",
      "model_outputs/lusiadas_mol.wavernn/1000k_steps_226_target.wav model_outputs/lusiadas_mol.wavernn/1000k_steps_226_gen_batched_target11000_overlap550.wav\n",
      "model_outputs/lusiadas_mol.wavernn/1000k_steps_227_target.wav model_outputs/lusiadas_mol.wavernn/1000k_steps_227_gen_batched_target11000_overlap550.wav\n",
      "model_outputs/lusiadas_mol.wavernn/1000k_steps_228_target.wav model_outputs/lusiadas_mol.wavernn/1000k_steps_228_gen_batched_target11000_overlap550.wav\n",
      "model_outputs/lusiadas_mol.wavernn/1000k_steps_229_target.wav model_outputs/lusiadas_mol.wavernn/1000k_steps_229_gen_batched_target11000_overlap550.wav\n",
      "model_outputs/lusiadas_mol.wavernn/1000k_steps_22_target.wav model_outputs/lusiadas_mol.wavernn/1000k_steps_22_gen_batched_target11000_overlap550.wav\n",
      "model_outputs/lusiadas_mol.wavernn/1000k_steps_230_target.wav model_outputs/lusiadas_mol.wavernn/1000k_steps_230_gen_batched_target11000_overlap550.wav\n",
      "model_outputs/lusiadas_mol.wavernn/1000k_steps_231_target.wav model_outputs/lusiadas_mol.wavernn/1000k_steps_231_gen_batched_target11000_overlap550.wav\n",
      "model_outputs/lusiadas_mol.wavernn/1000k_steps_232_target.wav model_outputs/lusiadas_mol.wavernn/1000k_steps_232_gen_batched_target11000_overlap550.wav\n",
      "model_outputs/lusiadas_mol.wavernn/1000k_steps_233_target.wav model_outputs/lusiadas_mol.wavernn/1000k_steps_233_gen_batched_target11000_overlap550.wav\n",
      "model_outputs/lusiadas_mol.wavernn/1000k_steps_234_target.wav model_outputs/lusiadas_mol.wavernn/1000k_steps_234_gen_batched_target11000_overlap550.wav\n",
      "model_outputs/lusiadas_mol.wavernn/1000k_steps_235_target.wav model_outputs/lusiadas_mol.wavernn/1000k_steps_235_gen_batched_target11000_overlap550.wav\n",
      "model_outputs/lusiadas_mol.wavernn/1000k_steps_236_target.wav model_outputs/lusiadas_mol.wavernn/1000k_steps_236_gen_batched_target11000_overlap550.wav\n",
      "model_outputs/lusiadas_mol.wavernn/1000k_steps_237_target.wav model_outputs/lusiadas_mol.wavernn/1000k_steps_237_gen_batched_target11000_overlap550.wav\n",
      "model_outputs/lusiadas_mol.wavernn/1000k_steps_238_target.wav model_outputs/lusiadas_mol.wavernn/1000k_steps_238_gen_batched_target11000_overlap550.wav\n",
      "model_outputs/lusiadas_mol.wavernn/1000k_steps_239_target.wav model_outputs/lusiadas_mol.wavernn/1000k_steps_239_gen_batched_target11000_overlap550.wav\n",
      "model_outputs/lusiadas_mol.wavernn/1000k_steps_23_target.wav model_outputs/lusiadas_mol.wavernn/1000k_steps_23_gen_batched_target11000_overlap550.wav\n",
      "model_outputs/lusiadas_mol.wavernn/1000k_steps_240_target.wav model_outputs/lusiadas_mol.wavernn/1000k_steps_240_gen_batched_target11000_overlap550.wav\n",
      "model_outputs/lusiadas_mol.wavernn/1000k_steps_241_target.wav model_outputs/lusiadas_mol.wavernn/1000k_steps_241_gen_batched_target11000_overlap550.wav\n",
      "model_outputs/lusiadas_mol.wavernn/1000k_steps_242_target.wav model_outputs/lusiadas_mol.wavernn/1000k_steps_242_gen_batched_target11000_overlap550.wav\n",
      "model_outputs/lusiadas_mol.wavernn/1000k_steps_243_target.wav model_outputs/lusiadas_mol.wavernn/1000k_steps_243_gen_batched_target11000_overlap550.wav\n",
      "model_outputs/lusiadas_mol.wavernn/1000k_steps_244_target.wav model_outputs/lusiadas_mol.wavernn/1000k_steps_244_gen_batched_target11000_overlap550.wav\n",
      "model_outputs/lusiadas_mol.wavernn/1000k_steps_245_target.wav model_outputs/lusiadas_mol.wavernn/1000k_steps_245_gen_batched_target11000_overlap550.wav\n",
      "model_outputs/lusiadas_mol.wavernn/1000k_steps_246_target.wav model_outputs/lusiadas_mol.wavernn/1000k_steps_246_gen_batched_target11000_overlap550.wav\n",
      "model_outputs/lusiadas_mol.wavernn/1000k_steps_247_target.wav model_outputs/lusiadas_mol.wavernn/1000k_steps_247_gen_batched_target11000_overlap550.wav\n",
      "model_outputs/lusiadas_mol.wavernn/1000k_steps_248_target.wav model_outputs/lusiadas_mol.wavernn/1000k_steps_248_gen_batched_target11000_overlap550.wav\n",
      "model_outputs/lusiadas_mol.wavernn/1000k_steps_249_target.wav model_outputs/lusiadas_mol.wavernn/1000k_steps_249_gen_batched_target11000_overlap550.wav\n",
      "model_outputs/lusiadas_mol.wavernn/1000k_steps_24_target.wav model_outputs/lusiadas_mol.wavernn/1000k_steps_24_gen_batched_target11000_overlap550.wav\n",
      "model_outputs/lusiadas_mol.wavernn/1000k_steps_250_target.wav model_outputs/lusiadas_mol.wavernn/1000k_steps_250_gen_batched_target11000_overlap550.wav\n",
      "model_outputs/lusiadas_mol.wavernn/1000k_steps_251_target.wav model_outputs/lusiadas_mol.wavernn/1000k_steps_251_gen_batched_target11000_overlap550.wav\n",
      "model_outputs/lusiadas_mol.wavernn/1000k_steps_252_target.wav model_outputs/lusiadas_mol.wavernn/1000k_steps_252_gen_batched_target11000_overlap550.wav\n",
      "model_outputs/lusiadas_mol.wavernn/1000k_steps_253_target.wav model_outputs/lusiadas_mol.wavernn/1000k_steps_253_gen_batched_target11000_overlap550.wav\n",
      "model_outputs/lusiadas_mol.wavernn/1000k_steps_254_target.wav model_outputs/lusiadas_mol.wavernn/1000k_steps_254_gen_batched_target11000_overlap550.wav\n",
      "model_outputs/lusiadas_mol.wavernn/1000k_steps_255_target.wav model_outputs/lusiadas_mol.wavernn/1000k_steps_255_gen_batched_target11000_overlap550.wav\n",
      "model_outputs/lusiadas_mol.wavernn/1000k_steps_256_target.wav model_outputs/lusiadas_mol.wavernn/1000k_steps_256_gen_batched_target11000_overlap550.wav\n",
      "model_outputs/lusiadas_mol.wavernn/1000k_steps_257_target.wav model_outputs/lusiadas_mol.wavernn/1000k_steps_257_gen_batched_target11000_overlap550.wav\n",
      "model_outputs/lusiadas_mol.wavernn/1000k_steps_258_target.wav model_outputs/lusiadas_mol.wavernn/1000k_steps_258_gen_batched_target11000_overlap550.wav\n",
      "model_outputs/lusiadas_mol.wavernn/1000k_steps_259_target.wav model_outputs/lusiadas_mol.wavernn/1000k_steps_259_gen_batched_target11000_overlap550.wav\n",
      "model_outputs/lusiadas_mol.wavernn/1000k_steps_25_target.wav model_outputs/lusiadas_mol.wavernn/1000k_steps_25_gen_batched_target11000_overlap550.wav\n",
      "model_outputs/lusiadas_mol.wavernn/1000k_steps_260_target.wav model_outputs/lusiadas_mol.wavernn/1000k_steps_260_gen_batched_target11000_overlap550.wav\n",
      "model_outputs/lusiadas_mol.wavernn/1000k_steps_261_target.wav model_outputs/lusiadas_mol.wavernn/1000k_steps_261_gen_batched_target11000_overlap550.wav\n",
      "model_outputs/lusiadas_mol.wavernn/1000k_steps_262_target.wav model_outputs/lusiadas_mol.wavernn/1000k_steps_262_gen_batched_target11000_overlap550.wav\n",
      "model_outputs/lusiadas_mol.wavernn/1000k_steps_263_target.wav model_outputs/lusiadas_mol.wavernn/1000k_steps_263_gen_batched_target11000_overlap550.wav\n",
      "model_outputs/lusiadas_mol.wavernn/1000k_steps_264_target.wav model_outputs/lusiadas_mol.wavernn/1000k_steps_264_gen_batched_target11000_overlap550.wav\n",
      "model_outputs/lusiadas_mol.wavernn/1000k_steps_265_target.wav model_outputs/lusiadas_mol.wavernn/1000k_steps_265_gen_batched_target11000_overlap550.wav\n",
      "model_outputs/lusiadas_mol.wavernn/1000k_steps_266_target.wav model_outputs/lusiadas_mol.wavernn/1000k_steps_266_gen_batched_target11000_overlap550.wav\n",
      "model_outputs/lusiadas_mol.wavernn/1000k_steps_267_target.wav model_outputs/lusiadas_mol.wavernn/1000k_steps_267_gen_batched_target11000_overlap550.wav\n",
      "model_outputs/lusiadas_mol.wavernn/1000k_steps_268_target.wav model_outputs/lusiadas_mol.wavernn/1000k_steps_268_gen_batched_target11000_overlap550.wav\n",
      "model_outputs/lusiadas_mol.wavernn/1000k_steps_269_target.wav model_outputs/lusiadas_mol.wavernn/1000k_steps_269_gen_batched_target11000_overlap550.wav\n",
      "model_outputs/lusiadas_mol.wavernn/1000k_steps_26_target.wav model_outputs/lusiadas_mol.wavernn/1000k_steps_26_gen_batched_target11000_overlap550.wav\n",
      "model_outputs/lusiadas_mol.wavernn/1000k_steps_270_target.wav model_outputs/lusiadas_mol.wavernn/1000k_steps_270_gen_batched_target11000_overlap550.wav\n",
      "model_outputs/lusiadas_mol.wavernn/1000k_steps_271_target.wav model_outputs/lusiadas_mol.wavernn/1000k_steps_271_gen_batched_target11000_overlap550.wav\n",
      "model_outputs/lusiadas_mol.wavernn/1000k_steps_272_target.wav model_outputs/lusiadas_mol.wavernn/1000k_steps_272_gen_batched_target11000_overlap550.wav\n",
      "model_outputs/lusiadas_mol.wavernn/1000k_steps_273_target.wav model_outputs/lusiadas_mol.wavernn/1000k_steps_273_gen_batched_target11000_overlap550.wav\n",
      "model_outputs/lusiadas_mol.wavernn/1000k_steps_274_target.wav model_outputs/lusiadas_mol.wavernn/1000k_steps_274_gen_batched_target11000_overlap550.wav\n",
      "model_outputs/lusiadas_mol.wavernn/1000k_steps_275_target.wav model_outputs/lusiadas_mol.wavernn/1000k_steps_275_gen_batched_target11000_overlap550.wav\n",
      "model_outputs/lusiadas_mol.wavernn/1000k_steps_276_target.wav model_outputs/lusiadas_mol.wavernn/1000k_steps_276_gen_batched_target11000_overlap550.wav\n",
      "model_outputs/lusiadas_mol.wavernn/1000k_steps_277_target.wav model_outputs/lusiadas_mol.wavernn/1000k_steps_277_gen_batched_target11000_overlap550.wav\n",
      "model_outputs/lusiadas_mol.wavernn/1000k_steps_278_target.wav model_outputs/lusiadas_mol.wavernn/1000k_steps_278_gen_batched_target11000_overlap550.wav\n",
      "model_outputs/lusiadas_mol.wavernn/1000k_steps_279_target.wav model_outputs/lusiadas_mol.wavernn/1000k_steps_279_gen_batched_target11000_overlap550.wav\n",
      "model_outputs/lusiadas_mol.wavernn/1000k_steps_27_target.wav model_outputs/lusiadas_mol.wavernn/1000k_steps_27_gen_batched_target11000_overlap550.wav\n",
      "model_outputs/lusiadas_mol.wavernn/1000k_steps_28_target.wav model_outputs/lusiadas_mol.wavernn/1000k_steps_28_gen_batched_target11000_overlap550.wav\n",
      "model_outputs/lusiadas_mol.wavernn/1000k_steps_29_target.wav model_outputs/lusiadas_mol.wavernn/1000k_steps_29_gen_batched_target11000_overlap550.wav\n",
      "model_outputs/lusiadas_mol.wavernn/1000k_steps_2_target.wav model_outputs/lusiadas_mol.wavernn/1000k_steps_2_gen_batched_target11000_overlap550.wav\n",
      "model_outputs/lusiadas_mol.wavernn/1000k_steps_30_target.wav model_outputs/lusiadas_mol.wavernn/1000k_steps_30_gen_batched_target11000_overlap550.wav\n",
      "model_outputs/lusiadas_mol.wavernn/1000k_steps_31_target.wav model_outputs/lusiadas_mol.wavernn/1000k_steps_31_gen_batched_target11000_overlap550.wav\n",
      "model_outputs/lusiadas_mol.wavernn/1000k_steps_32_target.wav model_outputs/lusiadas_mol.wavernn/1000k_steps_32_gen_batched_target11000_overlap550.wav\n",
      "model_outputs/lusiadas_mol.wavernn/1000k_steps_33_target.wav model_outputs/lusiadas_mol.wavernn/1000k_steps_33_gen_batched_target11000_overlap550.wav\n",
      "model_outputs/lusiadas_mol.wavernn/1000k_steps_34_target.wav model_outputs/lusiadas_mol.wavernn/1000k_steps_34_gen_batched_target11000_overlap550.wav\n",
      "model_outputs/lusiadas_mol.wavernn/1000k_steps_35_target.wav model_outputs/lusiadas_mol.wavernn/1000k_steps_35_gen_batched_target11000_overlap550.wav\n",
      "model_outputs/lusiadas_mol.wavernn/1000k_steps_36_target.wav model_outputs/lusiadas_mol.wavernn/1000k_steps_36_gen_batched_target11000_overlap550.wav\n",
      "model_outputs/lusiadas_mol.wavernn/1000k_steps_37_target.wav model_outputs/lusiadas_mol.wavernn/1000k_steps_37_gen_batched_target11000_overlap550.wav\n",
      "model_outputs/lusiadas_mol.wavernn/1000k_steps_38_target.wav model_outputs/lusiadas_mol.wavernn/1000k_steps_38_gen_batched_target11000_overlap550.wav\n",
      "model_outputs/lusiadas_mol.wavernn/1000k_steps_39_target.wav model_outputs/lusiadas_mol.wavernn/1000k_steps_39_gen_batched_target11000_overlap550.wav\n",
      "model_outputs/lusiadas_mol.wavernn/1000k_steps_3_target.wav model_outputs/lusiadas_mol.wavernn/1000k_steps_3_gen_batched_target11000_overlap550.wav\n",
      "model_outputs/lusiadas_mol.wavernn/1000k_steps_40_target.wav model_outputs/lusiadas_mol.wavernn/1000k_steps_40_gen_batched_target11000_overlap550.wav\n",
      "model_outputs/lusiadas_mol.wavernn/1000k_steps_41_target.wav model_outputs/lusiadas_mol.wavernn/1000k_steps_41_gen_batched_target11000_overlap550.wav\n",
      "model_outputs/lusiadas_mol.wavernn/1000k_steps_42_target.wav model_outputs/lusiadas_mol.wavernn/1000k_steps_42_gen_batched_target11000_overlap550.wav\n",
      "model_outputs/lusiadas_mol.wavernn/1000k_steps_43_target.wav model_outputs/lusiadas_mol.wavernn/1000k_steps_43_gen_batched_target11000_overlap550.wav\n",
      "model_outputs/lusiadas_mol.wavernn/1000k_steps_44_target.wav model_outputs/lusiadas_mol.wavernn/1000k_steps_44_gen_batched_target11000_overlap550.wav\n",
      "model_outputs/lusiadas_mol.wavernn/1000k_steps_45_target.wav model_outputs/lusiadas_mol.wavernn/1000k_steps_45_gen_batched_target11000_overlap550.wav\n",
      "model_outputs/lusiadas_mol.wavernn/1000k_steps_46_target.wav model_outputs/lusiadas_mol.wavernn/1000k_steps_46_gen_batched_target11000_overlap550.wav\n",
      "model_outputs/lusiadas_mol.wavernn/1000k_steps_47_target.wav model_outputs/lusiadas_mol.wavernn/1000k_steps_47_gen_batched_target11000_overlap550.wav\n",
      "model_outputs/lusiadas_mol.wavernn/1000k_steps_48_target.wav model_outputs/lusiadas_mol.wavernn/1000k_steps_48_gen_batched_target11000_overlap550.wav\n",
      "model_outputs/lusiadas_mol.wavernn/1000k_steps_49_target.wav model_outputs/lusiadas_mol.wavernn/1000k_steps_49_gen_batched_target11000_overlap550.wav\n",
      "model_outputs/lusiadas_mol.wavernn/1000k_steps_4_target.wav model_outputs/lusiadas_mol.wavernn/1000k_steps_4_gen_batched_target11000_overlap550.wav\n",
      "model_outputs/lusiadas_mol.wavernn/1000k_steps_50_target.wav model_outputs/lusiadas_mol.wavernn/1000k_steps_50_gen_batched_target11000_overlap550.wav\n",
      "model_outputs/lusiadas_mol.wavernn/1000k_steps_51_target.wav model_outputs/lusiadas_mol.wavernn/1000k_steps_51_gen_batched_target11000_overlap550.wav\n",
      "model_outputs/lusiadas_mol.wavernn/1000k_steps_52_target.wav model_outputs/lusiadas_mol.wavernn/1000k_steps_52_gen_batched_target11000_overlap550.wav\n",
      "model_outputs/lusiadas_mol.wavernn/1000k_steps_53_target.wav model_outputs/lusiadas_mol.wavernn/1000k_steps_53_gen_batched_target11000_overlap550.wav\n",
      "model_outputs/lusiadas_mol.wavernn/1000k_steps_54_target.wav model_outputs/lusiadas_mol.wavernn/1000k_steps_54_gen_batched_target11000_overlap550.wav\n",
      "model_outputs/lusiadas_mol.wavernn/1000k_steps_55_target.wav model_outputs/lusiadas_mol.wavernn/1000k_steps_55_gen_batched_target11000_overlap550.wav\n",
      "model_outputs/lusiadas_mol.wavernn/1000k_steps_56_target.wav model_outputs/lusiadas_mol.wavernn/1000k_steps_56_gen_batched_target11000_overlap550.wav\n",
      "model_outputs/lusiadas_mol.wavernn/1000k_steps_57_target.wav model_outputs/lusiadas_mol.wavernn/1000k_steps_57_gen_batched_target11000_overlap550.wav\n",
      "model_outputs/lusiadas_mol.wavernn/1000k_steps_58_target.wav model_outputs/lusiadas_mol.wavernn/1000k_steps_58_gen_batched_target11000_overlap550.wav\n",
      "model_outputs/lusiadas_mol.wavernn/1000k_steps_59_target.wav model_outputs/lusiadas_mol.wavernn/1000k_steps_59_gen_batched_target11000_overlap550.wav\n",
      "model_outputs/lusiadas_mol.wavernn/1000k_steps_5_target.wav model_outputs/lusiadas_mol.wavernn/1000k_steps_5_gen_batched_target11000_overlap550.wav\n",
      "model_outputs/lusiadas_mol.wavernn/1000k_steps_60_target.wav model_outputs/lusiadas_mol.wavernn/1000k_steps_60_gen_batched_target11000_overlap550.wav\n",
      "model_outputs/lusiadas_mol.wavernn/1000k_steps_61_target.wav model_outputs/lusiadas_mol.wavernn/1000k_steps_61_gen_batched_target11000_overlap550.wav\n",
      "model_outputs/lusiadas_mol.wavernn/1000k_steps_62_target.wav model_outputs/lusiadas_mol.wavernn/1000k_steps_62_gen_batched_target11000_overlap550.wav\n",
      "model_outputs/lusiadas_mol.wavernn/1000k_steps_63_target.wav model_outputs/lusiadas_mol.wavernn/1000k_steps_63_gen_batched_target11000_overlap550.wav\n",
      "model_outputs/lusiadas_mol.wavernn/1000k_steps_64_target.wav model_outputs/lusiadas_mol.wavernn/1000k_steps_64_gen_batched_target11000_overlap550.wav\n",
      "model_outputs/lusiadas_mol.wavernn/1000k_steps_65_target.wav model_outputs/lusiadas_mol.wavernn/1000k_steps_65_gen_batched_target11000_overlap550.wav\n",
      "model_outputs/lusiadas_mol.wavernn/1000k_steps_66_target.wav model_outputs/lusiadas_mol.wavernn/1000k_steps_66_gen_batched_target11000_overlap550.wav\n",
      "model_outputs/lusiadas_mol.wavernn/1000k_steps_67_target.wav model_outputs/lusiadas_mol.wavernn/1000k_steps_67_gen_batched_target11000_overlap550.wav\n",
      "model_outputs/lusiadas_mol.wavernn/1000k_steps_68_target.wav model_outputs/lusiadas_mol.wavernn/1000k_steps_68_gen_batched_target11000_overlap550.wav\n",
      "model_outputs/lusiadas_mol.wavernn/1000k_steps_69_target.wav model_outputs/lusiadas_mol.wavernn/1000k_steps_69_gen_batched_target11000_overlap550.wav\n",
      "model_outputs/lusiadas_mol.wavernn/1000k_steps_6_target.wav model_outputs/lusiadas_mol.wavernn/1000k_steps_6_gen_batched_target11000_overlap550.wav\n",
      "model_outputs/lusiadas_mol.wavernn/1000k_steps_70_target.wav model_outputs/lusiadas_mol.wavernn/1000k_steps_70_gen_batched_target11000_overlap550.wav\n",
      "model_outputs/lusiadas_mol.wavernn/1000k_steps_71_target.wav model_outputs/lusiadas_mol.wavernn/1000k_steps_71_gen_batched_target11000_overlap550.wav\n",
      "model_outputs/lusiadas_mol.wavernn/1000k_steps_72_target.wav model_outputs/lusiadas_mol.wavernn/1000k_steps_72_gen_batched_target11000_overlap550.wav\n",
      "model_outputs/lusiadas_mol.wavernn/1000k_steps_73_target.wav model_outputs/lusiadas_mol.wavernn/1000k_steps_73_gen_batched_target11000_overlap550.wav\n",
      "model_outputs/lusiadas_mol.wavernn/1000k_steps_74_target.wav model_outputs/lusiadas_mol.wavernn/1000k_steps_74_gen_batched_target11000_overlap550.wav\n",
      "model_outputs/lusiadas_mol.wavernn/1000k_steps_75_target.wav model_outputs/lusiadas_mol.wavernn/1000k_steps_75_gen_batched_target11000_overlap550.wav\n",
      "model_outputs/lusiadas_mol.wavernn/1000k_steps_76_target.wav model_outputs/lusiadas_mol.wavernn/1000k_steps_76_gen_batched_target11000_overlap550.wav\n",
      "model_outputs/lusiadas_mol.wavernn/1000k_steps_77_target.wav model_outputs/lusiadas_mol.wavernn/1000k_steps_77_gen_batched_target11000_overlap550.wav\n",
      "model_outputs/lusiadas_mol.wavernn/1000k_steps_78_target.wav model_outputs/lusiadas_mol.wavernn/1000k_steps_78_gen_batched_target11000_overlap550.wav\n",
      "model_outputs/lusiadas_mol.wavernn/1000k_steps_79_target.wav model_outputs/lusiadas_mol.wavernn/1000k_steps_79_gen_batched_target11000_overlap550.wav\n",
      "model_outputs/lusiadas_mol.wavernn/1000k_steps_7_target.wav model_outputs/lusiadas_mol.wavernn/1000k_steps_7_gen_batched_target11000_overlap550.wav\n",
      "model_outputs/lusiadas_mol.wavernn/1000k_steps_80_target.wav model_outputs/lusiadas_mol.wavernn/1000k_steps_80_gen_batched_target11000_overlap550.wav\n",
      "model_outputs/lusiadas_mol.wavernn/1000k_steps_81_target.wav model_outputs/lusiadas_mol.wavernn/1000k_steps_81_gen_batched_target11000_overlap550.wav\n",
      "model_outputs/lusiadas_mol.wavernn/1000k_steps_82_target.wav model_outputs/lusiadas_mol.wavernn/1000k_steps_82_gen_batched_target11000_overlap550.wav\n",
      "model_outputs/lusiadas_mol.wavernn/1000k_steps_83_target.wav model_outputs/lusiadas_mol.wavernn/1000k_steps_83_gen_batched_target11000_overlap550.wav\n",
      "model_outputs/lusiadas_mol.wavernn/1000k_steps_84_target.wav model_outputs/lusiadas_mol.wavernn/1000k_steps_84_gen_batched_target11000_overlap550.wav\n",
      "model_outputs/lusiadas_mol.wavernn/1000k_steps_85_target.wav model_outputs/lusiadas_mol.wavernn/1000k_steps_85_gen_batched_target11000_overlap550.wav\n",
      "model_outputs/lusiadas_mol.wavernn/1000k_steps_86_target.wav model_outputs/lusiadas_mol.wavernn/1000k_steps_86_gen_batched_target11000_overlap550.wav\n",
      "model_outputs/lusiadas_mol.wavernn/1000k_steps_87_target.wav model_outputs/lusiadas_mol.wavernn/1000k_steps_87_gen_batched_target11000_overlap550.wav\n",
      "model_outputs/lusiadas_mol.wavernn/1000k_steps_88_target.wav model_outputs/lusiadas_mol.wavernn/1000k_steps_88_gen_batched_target11000_overlap550.wav\n",
      "model_outputs/lusiadas_mol.wavernn/1000k_steps_89_target.wav model_outputs/lusiadas_mol.wavernn/1000k_steps_89_gen_batched_target11000_overlap550.wav\n",
      "model_outputs/lusiadas_mol.wavernn/1000k_steps_8_target.wav model_outputs/lusiadas_mol.wavernn/1000k_steps_8_gen_batched_target11000_overlap550.wav\n",
      "model_outputs/lusiadas_mol.wavernn/1000k_steps_90_target.wav model_outputs/lusiadas_mol.wavernn/1000k_steps_90_gen_batched_target11000_overlap550.wav\n",
      "model_outputs/lusiadas_mol.wavernn/1000k_steps_91_target.wav model_outputs/lusiadas_mol.wavernn/1000k_steps_91_gen_batched_target11000_overlap550.wav\n",
      "model_outputs/lusiadas_mol.wavernn/1000k_steps_92_target.wav model_outputs/lusiadas_mol.wavernn/1000k_steps_92_gen_batched_target11000_overlap550.wav\n",
      "model_outputs/lusiadas_mol.wavernn/1000k_steps_93_target.wav model_outputs/lusiadas_mol.wavernn/1000k_steps_93_gen_batched_target11000_overlap550.wav\n",
      "model_outputs/lusiadas_mol.wavernn/1000k_steps_94_target.wav model_outputs/lusiadas_mol.wavernn/1000k_steps_94_gen_batched_target11000_overlap550.wav\n",
      "model_outputs/lusiadas_mol.wavernn/1000k_steps_95_target.wav model_outputs/lusiadas_mol.wavernn/1000k_steps_95_gen_batched_target11000_overlap550.wav\n",
      "model_outputs/lusiadas_mol.wavernn/1000k_steps_96_target.wav model_outputs/lusiadas_mol.wavernn/1000k_steps_96_gen_batched_target11000_overlap550.wav\n",
      "model_outputs/lusiadas_mol.wavernn/1000k_steps_97_target.wav model_outputs/lusiadas_mol.wavernn/1000k_steps_97_gen_batched_target11000_overlap550.wav\n",
      "model_outputs/lusiadas_mol.wavernn/1000k_steps_98_target.wav model_outputs/lusiadas_mol.wavernn/1000k_steps_98_gen_batched_target11000_overlap550.wav\n",
      "model_outputs/lusiadas_mol.wavernn/1000k_steps_99_target.wav model_outputs/lusiadas_mol.wavernn/1000k_steps_99_gen_batched_target11000_overlap550.wav\n",
      "model_outputs/lusiadas_mol.wavernn/1000k_steps_9_target.wav model_outputs/lusiadas_mol.wavernn/1000k_steps_9_gen_batched_target11000_overlap550.wav\n"
     ]
    }
   ],
   "source": [
    "for idx, row in ref_files.iterrows():\n",
    "    ref_file = row.values[0]\n",
    "    gen_file = gen_files[0][idx]\n",
    "\n",
    "    assert ref_file.split('/')[-1].split('_')[2] == gen_file.split('/')[-1].split('_')[2]\n",
    "    print(ref_file, gen_file)"
   ]
  },
  {
   "cell_type": "markdown",
   "metadata": {},
   "source": [
    "# utils"
   ]
  },
  {
   "cell_type": "code",
   "execution_count": 10,
   "metadata": {},
   "outputs": [],
   "source": [
    "def load_audio(file_path):\n",
    "    data, rate = sf.read(file_path)\n",
    "    return data, rate"
   ]
  },
  {
   "cell_type": "markdown",
   "metadata": {},
   "source": [
    "# pesq"
   ]
  },
  {
   "cell_type": "code",
   "execution_count": 11,
   "metadata": {},
   "outputs": [],
   "source": [
    "def calculate_pesq(reference_file, degraded_file):\n",
    "    try:\n",
    "        ref, rate_ref = load_audio(reference_file)\n",
    "        deg, rate = load_audio(degraded_file)\n",
    "        assert rate == rate_ref\n",
    "\n",
    "        # if len(ref) > len(deg):\n",
    "        #     ref = ref[:len(deg)]\n",
    "        # else:\n",
    "        #     deg = deg[:len(ref)]\n",
    "\n",
    "        pesq_score = pesq(rate, ref, deg, 'nb')\n",
    "        \n",
    "        return pesq_score\n",
    "    except PesqError as e:\n",
    "        print(f\"PESQ Error: {e}\")\n",
    "        return None"
   ]
  },
  {
   "cell_type": "code",
   "execution_count": 12,
   "metadata": {},
   "outputs": [
    {
     "data": {
      "text/plain": [
       "2.472633123397827"
      ]
     },
     "execution_count": 12,
     "metadata": {},
     "output_type": "execute_result"
    }
   ],
   "source": [
    "pesq_score = calculate_pesq(reference_file, input_file)\n",
    "pesq_score"
   ]
  },
  {
   "cell_type": "code",
   "execution_count": 13,
   "metadata": {},
   "outputs": [
    {
     "name": "stderr",
     "output_type": "stream",
     "text": [
      "279it [01:22,  3.38it/s]\n"
     ]
    }
   ],
   "source": [
    "log = []\n",
    "for idx, row in tqdm(ref_files.iterrows()):\n",
    "    ref_file = row.values[0]\n",
    "    gen_file = gen_files[0][idx]\n",
    "\n",
    "    assert ref_file.split('/')[-1].split('_')[2] == gen_file.split('/')[-1].split('_')[2]\n",
    "    pesq_score = calculate_pesq(ref_file, gen_file)\n",
    "    log.append(pesq_score)"
   ]
  },
  {
   "cell_type": "code",
   "execution_count": 14,
   "metadata": {},
   "outputs": [
    {
     "data": {
      "image/png": "[encoded data removed]",
      "text/plain": [
       "<Figure size 432x288 with 1 Axes>"
      ]
     },
     "metadata": {
      "needs_background": "light"
     },
     "output_type": "display_data"
    }
   ],
   "source": [
    "plt.hist(log);\n",
    "plt.title('pesq, mean {}, std {}'.format(np.mean(log), np.std(log)));"
   ]
  },
  {
   "cell_type": "markdown",
   "metadata": {},
   "source": [
    "# snr"
   ]
  },
  {
   "cell_type": "code",
   "execution_count": 15,
   "metadata": {},
   "outputs": [],
   "source": [
    "def calculate_snr(reference_file, degraded_file):\n",
    "    ref, rate_ref = load_audio(reference_file)\n",
    "    deg, rate_deg = load_audio(degraded_file)\n",
    "\n",
    "    if rate_ref != rate_deg:\n",
    "        raise ValueError(\"The reference and degraded files must have the same sampling rate\")\n",
    "\n",
    "    if len(ref) > len(deg):\n",
    "        ref = ref[:len(deg)]\n",
    "    else:\n",
    "        deg = deg[:len(ref)]\n",
    "\n",
    "    noise = ref - deg\n",
    "    signal_power = np.mean(ref ** 2)\n",
    "    noise_power = np.mean(noise ** 2)\n",
    "\n",
    "    snr = 10 * np.log10(signal_power / noise_power)\n",
    "    return snr"
   ]
  },
  {
   "cell_type": "code",
   "execution_count": 16,
   "metadata": {},
   "outputs": [
    {
     "data": {
      "text/plain": [
       "-2.7594857856751984"
      ]
     },
     "execution_count": 16,
     "metadata": {},
     "output_type": "execute_result"
    }
   ],
   "source": [
    "snr_score = calculate_snr(reference_file, input_file)\n",
    "snr_score"
   ]
  },
  {
   "cell_type": "code",
   "execution_count": 17,
   "metadata": {},
   "outputs": [
    {
     "name": "stderr",
     "output_type": "stream",
     "text": [
      "279it [00:00, 430.96it/s]\n"
     ]
    }
   ],
   "source": [
    "log = []\n",
    "for idx, row in tqdm(ref_files.iterrows()):\n",
    "    ref_file = row.values[0]\n",
    "    gen_file = gen_files[0][idx]\n",
    "\n",
    "    assert ref_file.split('/')[-1].split('_')[2] == gen_file.split('/')[-1].split('_')[2]\n",
    "    snr_score = calculate_snr(ref_file, gen_file)\n",
    "    log.append(snr_score)"
   ]
  },
  {
   "cell_type": "code",
   "execution_count": 18,
   "metadata": {},
   "outputs": [
    {
     "data": {
      "image/png": "[encoded data removed]",
      "text/plain": [
       "<Figure size 432x288 with 1 Axes>"
      ]
     },
     "metadata": {
      "needs_background": "light"
     },
     "output_type": "display_data"
    }
   ],
   "source": [
    "plt.hist(log);\n",
    "plt.title('snr, mean {}, std {}'.format(np.mean(log), np.std(log)));"
   ]
  },
  {
   "cell_type": "markdown",
   "metadata": {},
   "source": [
    "# mfcc dtw"
   ]
  },
  {
   "cell_type": "code",
   "execution_count": 19,
   "metadata": {},
   "outputs": [],
   "source": [
    "def calculate_mfcc(audio, rate, n_mfcc=13):\n",
    "    mfccs = librosa.feature.mfcc(y=audio, sr=rate, n_mfcc=n_mfcc)\n",
    "    return mfccs.T\n",
    "\n",
    "def compare_mfcc(reference_file, degraded_file, n_mfcc=13):\n",
    "    ref_audio, rate_ref = load_audio(reference_file)\n",
    "    deg_audio, rate_deg = load_audio(degraded_file)\n",
    "\n",
    "    if rate_ref != rate_deg:\n",
    "        raise ValueError(\"The reference and degraded files must have the same sampling rate\")\n",
    "\n",
    "    ref_mfcc = calculate_mfcc(ref_audio, rate_ref, n_mfcc = n_mfcc)\n",
    "    deg_mfcc = calculate_mfcc(deg_audio, rate_deg, n_mfcc = n_mfcc)\n",
    "\n",
    "    distance, path = fastdtw(ref_mfcc, deg_mfcc, dist=euclidean)\n",
    "    return distance"
   ]
  },
  {
   "cell_type": "code",
   "execution_count": 20,
   "metadata": {},
   "outputs": [
    {
     "data": {
      "text/plain": [
       "18233.564982105363"
      ]
     },
     "execution_count": 20,
     "metadata": {},
     "output_type": "execute_result"
    }
   ],
   "source": [
    "mfccdtw_score = compare_mfcc(reference_file, input_file)\n",
    "mfccdtw_score"
   ]
  },
  {
   "cell_type": "code",
   "execution_count": 21,
   "metadata": {},
   "outputs": [
    {
     "name": "stderr",
     "output_type": "stream",
     "text": [
      "279it [00:29,  9.45it/s]\n"
     ]
    }
   ],
   "source": [
    "log = []\n",
    "for idx, row in tqdm(ref_files.iterrows()):\n",
    "    ref_file = row.values[0]\n",
    "    gen_file = gen_files[0][idx]\n",
    "\n",
    "    assert ref_file.split('/')[-1].split('_')[2] == gen_file.split('/')[-1].split('_')[2]\n",
    "    mfccdtw_score = compare_mfcc(ref_file, gen_file)\n",
    "    log.append(mfccdtw_score)"
   ]
  },
  {
   "cell_type": "code",
   "execution_count": 22,
   "metadata": {},
   "outputs": [
    {
     "data": {
      "image/png": "[encoded data removed]",
      "text/plain": [
       "<Figure size 432x288 with 1 Axes>"
      ]
     },
     "metadata": {
      "needs_background": "light"
     },
     "output_type": "display_data"
    }
   ],
   "source": [
    "plt.hist(log);\n",
    "plt.title('mfcc dtw, mean {}, std {}'.format(np.mean(log), np.std(log)));"
   ]
  },
  {
   "cell_type": "markdown",
   "metadata": {},
   "source": [
    "# stoi"
   ]
  },
  {
   "cell_type": "code",
   "execution_count": 23,
   "metadata": {},
   "outputs": [],
   "source": [
    "def calculate_stoi(reference_file, degraded_file):\n",
    "    ref, rate_ref = load_audio(reference_file)\n",
    "    deg, rate_deg = load_audio(degraded_file)\n",
    "\n",
    "    if rate_ref != rate_deg:\n",
    "        raise ValueError(\"The reference and degraded files must have the same sampling rate\")\n",
    "\n",
    "    if len(ref) > len(deg):\n",
    "        ref = ref[:len(deg)]\n",
    "    else:\n",
    "        deg = deg[:len(ref)]\n",
    "\n",
    "    stoi_score = stoi(ref, deg, rate_ref, extended=False)\n",
    "    return stoi_score"
   ]
  },
  {
   "cell_type": "code",
   "execution_count": 24,
   "metadata": {},
   "outputs": [
    {
     "data": {
      "text/plain": [
       "0.8730798412882078"
      ]
     },
     "execution_count": 24,
     "metadata": {},
     "output_type": "execute_result"
    }
   ],
   "source": [
    "stoi_score = calculate_stoi(reference_file, input_file)\n",
    "stoi_score"
   ]
  },
  {
   "cell_type": "code",
   "execution_count": 25,
   "metadata": {},
   "outputs": [
    {
     "name": "stderr",
     "output_type": "stream",
     "text": [
      "279it [00:22, 12.22it/s]\n"
     ]
    }
   ],
   "source": [
    "log = []\n",
    "for idx, row in tqdm(ref_files.iterrows()):\n",
    "    ref_file = row.values[0]\n",
    "    gen_file = gen_files[0][idx]\n",
    "\n",
    "    assert ref_file.split('/')[-1].split('_')[2] == gen_file.split('/')[-1].split('_')[2]\n",
    "    stoi_score = calculate_stoi(ref_file, gen_file)\n",
    "    log.append(stoi_score)"
   ]
  },
  {
   "cell_type": "code",
   "execution_count": 26,
   "metadata": {},
   "outputs": [
    {
     "data": {
      "image/png": "[encoded data removed]",
      "text/plain": [
       "<Figure size 432x288 with 1 Axes>"
      ]
     },
     "metadata": {
      "needs_background": "light"
     },
     "output_type": "display_data"
    }
   ],
   "source": [
    "plt.hist(log);\n",
    "plt.title('stoi, mean {}, std {}'.format(np.mean(log), np.std(log)));"
   ]
  },
  {
   "cell_type": "markdown",
   "metadata": {},
   "source": [
    "# composite"
   ]
  },
  {
   "cell_type": "code",
   "execution_count": 27,
   "metadata": {},
   "outputs": [],
   "source": [
    "def calculate_ccc(reference_file, degraded_file):\n",
    "    ref, rate_ref = load_audio(reference_file)\n",
    "    deg, rate_deg = load_audio(degraded_file)\n",
    "\n",
    "    if rate_ref != rate_deg:\n",
    "        raise ValueError(\"The reference and degraded files must have the same sampling rate\")\n",
    "\n",
    "    # min_len = min(len(ref_audio), len(deg_audio))\n",
    "    # ref_audio = ref_audio[:min_len]\n",
    "    # deg_audio = deg_audio[:min_len]\n",
    "\n",
    "    csig = sewar.csig(ref, deg)\n",
    "    cbak = sewar.cbak(ref, deg)\n",
    "    covl = sewar.covl(ref, deg)\n",
    "\n",
    "    return csig, cbak, covl"
   ]
  },
  {
   "cell_type": "code",
   "execution_count": 21,
   "metadata": {},
   "outputs": [
    {
     "ename": "AttributeError",
     "evalue": "module 'sewar.full_ref' has no attribute 'csig'",
     "output_type": "error",
     "traceback": [
      "\u001b[0;31m---------------------------------------------------------------------------\u001b[0m",
      "\u001b[0;31mAttributeError\u001b[0m                            Traceback (most recent call last)",
      "\u001b[0;32m<ipython-input-21-588d141bd8b1>\u001b[0m in \u001b[0;36m<module>\u001b[0;34m\u001b[0m\n\u001b[0;32m----> 1\u001b[0;31m \u001b[0mcsig\u001b[0m\u001b[0;34m,\u001b[0m \u001b[0mcbak\u001b[0m\u001b[0;34m,\u001b[0m \u001b[0mcovl\u001b[0m \u001b[0;34m=\u001b[0m \u001b[0mcalculate_ccc\u001b[0m\u001b[0;34m(\u001b[0m\u001b[0mreference_file\u001b[0m\u001b[0;34m,\u001b[0m \u001b[0minput_file\u001b[0m\u001b[0;34m)\u001b[0m\u001b[0;34m\u001b[0m\u001b[0;34m\u001b[0m\u001b[0m\n\u001b[0m\u001b[1;32m      2\u001b[0m \u001b[0mcsig\u001b[0m\u001b[0;34m,\u001b[0m \u001b[0mcbak\u001b[0m\u001b[0;34m,\u001b[0m \u001b[0mcovl\u001b[0m\u001b[0;34m\u001b[0m\u001b[0;34m\u001b[0m\u001b[0m\n",
      "\u001b[0;32m<ipython-input-20-7201ad102ace>\u001b[0m in \u001b[0;36mcalculate_ccc\u001b[0;34m(reference_file, degraded_file)\u001b[0m\n\u001b[1;32m     10\u001b[0m     \u001b[0;31m# deg_audio = deg_audio[:min_len]\u001b[0m\u001b[0;34m\u001b[0m\u001b[0;34m\u001b[0m\u001b[0;34m\u001b[0m\u001b[0m\n\u001b[1;32m     11\u001b[0m \u001b[0;34m\u001b[0m\u001b[0m\n\u001b[0;32m---> 12\u001b[0;31m     \u001b[0mcsig\u001b[0m \u001b[0;34m=\u001b[0m \u001b[0msewar\u001b[0m\u001b[0;34m.\u001b[0m\u001b[0mcsig\u001b[0m\u001b[0;34m(\u001b[0m\u001b[0mref\u001b[0m\u001b[0;34m,\u001b[0m \u001b[0mdeg\u001b[0m\u001b[0;34m)\u001b[0m\u001b[0;34m\u001b[0m\u001b[0;34m\u001b[0m\u001b[0m\n\u001b[0m\u001b[1;32m     13\u001b[0m     \u001b[0mcbak\u001b[0m \u001b[0;34m=\u001b[0m \u001b[0msewar\u001b[0m\u001b[0;34m.\u001b[0m\u001b[0mcbak\u001b[0m\u001b[0;34m(\u001b[0m\u001b[0mref\u001b[0m\u001b[0;34m,\u001b[0m \u001b[0mdeg\u001b[0m\u001b[0;34m)\u001b[0m\u001b[0;34m\u001b[0m\u001b[0;34m\u001b[0m\u001b[0m\n\u001b[1;32m     14\u001b[0m     \u001b[0mcovl\u001b[0m \u001b[0;34m=\u001b[0m \u001b[0msewar\u001b[0m\u001b[0;34m.\u001b[0m\u001b[0mcovl\u001b[0m\u001b[0;34m(\u001b[0m\u001b[0mref\u001b[0m\u001b[0;34m,\u001b[0m \u001b[0mdeg\u001b[0m\u001b[0;34m)\u001b[0m\u001b[0;34m\u001b[0m\u001b[0;34m\u001b[0m\u001b[0m\n",
      "\u001b[0;31mAttributeError\u001b[0m: module 'sewar.full_ref' has no attribute 'csig'"
     ]
    }
   ],
   "source": [
    "# csig, cbak, covl = calculate_ccc(reference_file, input_file)\n",
    "# csig, cbak, covl"
   ]
  },
  {
   "cell_type": "markdown",
   "metadata": {},
   "source": [
    "# lsd"
   ]
  },
  {
   "cell_type": "code",
   "execution_count": 28,
   "metadata": {},
   "outputs": [],
   "source": [
    "def log_spectral_distance(ref_audio, deg_audio, sr):\n",
    "    ref_spec = np.log(np.abs(librosa.stft(ref_audio)) + 1e-10)\n",
    "    deg_spec = np.log(np.abs(librosa.stft(deg_audio)) + 1e-10)\n",
    "\n",
    "    lsd = np.mean(np.sqrt(np.mean((ref_spec - deg_spec) ** 2, axis=0)))\n",
    "    return lsd\n",
    "\n",
    "def calculate_lsd(reference_file, degraded_file):\n",
    "    ref, rate_ref = load_audio(reference_file)\n",
    "    deg, rate_deg = load_audio(degraded_file)\n",
    "\n",
    "    if rate_ref != rate_deg:\n",
    "        raise ValueError(\"The reference and degraded files must have the same sampling rate\")\n",
    "\n",
    "    min_len = min(len(ref), len(deg))\n",
    "    ref_audio = ref[:min_len]\n",
    "    deg_audio = deg[:min_len]\n",
    "\n",
    "    lsd = log_spectral_distance(ref_audio, deg_audio, rate_ref)\n",
    "    return lsd"
   ]
  },
  {
   "cell_type": "code",
   "execution_count": 29,
   "metadata": {},
   "outputs": [
    {
     "data": {
      "text/plain": [
       "0.97800785"
      ]
     },
     "execution_count": 29,
     "metadata": {},
     "output_type": "execute_result"
    }
   ],
   "source": [
    "lsd_score = calculate_lsd(reference_file, input_file)\n",
    "lsd_score"
   ]
  },
  {
   "cell_type": "code",
   "execution_count": 30,
   "metadata": {},
   "outputs": [
    {
     "name": "stderr",
     "output_type": "stream",
     "text": [
      "279it [00:06, 44.87it/s]\n"
     ]
    }
   ],
   "source": [
    "log = []\n",
    "for idx, row in tqdm(ref_files.iterrows()):\n",
    "    ref_file = row.values[0]\n",
    "    gen_file = gen_files[0][idx]\n",
    "\n",
    "    assert ref_file.split('/')[-1].split('_')[2] == gen_file.split('/')[-1].split('_')[2]\n",
    "    lsd_score = calculate_lsd(ref_file, gen_file)\n",
    "    log.append(lsd_score)"
   ]
  },
  {
   "cell_type": "code",
   "execution_count": 31,
   "metadata": {},
   "outputs": [
    {
     "data": {
      "image/png": "[encoded data removed]",
      "text/plain": [
       "<Figure size 432x288 with 1 Axes>"
      ]
     },
     "metadata": {
      "needs_background": "light"
     },
     "output_type": "display_data"
    }
   ],
   "source": [
    "plt.hist(log);\n",
    "plt.title('lsd, mean {}, std {}'.format(np.mean(log), np.std(log)));"
   ]
  },
  {
   "cell_type": "markdown",
   "metadata": {},
   "source": [
    "# llr"
   ]
  },
  {
   "cell_type": "code",
   "execution_count": 32,
   "metadata": {},
   "outputs": [],
   "source": [
    "def frame_signal(signal, frame_length):\n",
    "    frame_step = frame_length // 2\n",
    "    signal_length = len(signal)\n",
    "    num_frames = 1 + int(np.ceil((signal_length - frame_length) / frame_step))\n",
    "    pad_signal_length = num_frames * frame_step + frame_length\n",
    "    pad_signal = np.append(signal, np.zeros(pad_signal_length - signal_length))\n",
    "\n",
    "    indices = np.tile(np.arange(0, frame_length), (num_frames, 1)) + \\\n",
    "                np.tile(np.arange(0, num_frames * frame_step, frame_step), (frame_length, 1)).T\n",
    "    frames = pad_signal[indices.astype(np.int32, copy=False)]\n",
    "    return frames\n",
    "\n",
    "def lpc(signal, order):\n",
    "    autocorr = np.correlate(signal, signal, mode='full')\n",
    "    autocorr = autocorr[len(autocorr) // 2:]\n",
    "    R = autocorr[:order + 1]\n",
    "    r = -autocorr[1:order + 1]\n",
    "\n",
    "    a = solve_toeplitz((R, R), r)\n",
    "    return np.concatenate(([1], a))\n",
    "\n",
    "def calculate_llr(reference_file, degraded_file, frame_length=512):\n",
    "    ref_audio, rate_ref = load_audio(reference_file)\n",
    "    deg_audio, rate_deg = load_audio(degraded_file)\n",
    "\n",
    "    if rate_ref != rate_deg:\n",
    "        raise ValueError(\"The reference and degraded files must have the same sampling rate\")\n",
    "    \n",
    "    # Ensure the signals have the same length\n",
    "    min_len = min(len(ref_audio), len(deg_audio))\n",
    "    ref_audio = ref_audio[:min_len]\n",
    "    deg_audio = deg_audio[:min_len]\n",
    "    \n",
    "    ref_frames = frame_signal(ref_audio, frame_length)\n",
    "    deg_frames = frame_signal(deg_audio, frame_length)\n",
    "   \n",
    "    llr_values = []\n",
    "    for ref_frame, deg_frame in zip(ref_frames, deg_frames):\n",
    "        ref_frame = ref_frame * hamming(frame_length)\n",
    "        deg_frame = deg_frame * hamming(frame_length)\n",
    "\n",
    "        ref_lpc = lpc(ref_frame, order=12)\n",
    "        deg_lpc = lpc(deg_frame, order=12)\n",
    "\n",
    "        ref_pred = lfilter([0] + -1 * ref_lpc[1:], 1, ref_frame)\n",
    "        deg_pred = lfilter([0] + -1 * deg_lpc[1:], 1, ref_frame)\n",
    "\n",
    "        error_signal = ref_pred - deg_pred\n",
    "        num = np.dot(error_signal, error_signal)\n",
    "        denom = np.dot(ref_pred, ref_pred)\n",
    "\n",
    "        llr_frame = 10 * np.log10(num / denom)\n",
    "        llr_values.append(llr_frame)\n",
    "\n",
    "    return np.mean(llr_values)"
   ]
  },
  {
   "cell_type": "code",
   "execution_count": 30,
   "metadata": {},
   "outputs": [
    {
     "ename": "ValueError",
     "evalue": "incompatible dimensions",
     "output_type": "error",
     "traceback": [
      "\u001b[0;31m---------------------------------------------------------------------------\u001b[0m",
      "\u001b[0;31mValueError\u001b[0m                                Traceback (most recent call last)",
      "\u001b[0;32m<ipython-input-30-bcafdddd6452>\u001b[0m in \u001b[0;36m<module>\u001b[0;34m\u001b[0m\n\u001b[0;32m----> 1\u001b[0;31m \u001b[0mllr_score\u001b[0m \u001b[0;34m=\u001b[0m \u001b[0mcalculate_llr\u001b[0m\u001b[0;34m(\u001b[0m\u001b[0mreference_file\u001b[0m\u001b[0;34m,\u001b[0m \u001b[0minput_file\u001b[0m\u001b[0;34m)\u001b[0m\u001b[0;34m\u001b[0m\u001b[0;34m\u001b[0m\u001b[0m\n\u001b[0m\u001b[1;32m      2\u001b[0m \u001b[0mllr_score\u001b[0m\u001b[0;34m\u001b[0m\u001b[0;34m\u001b[0m\u001b[0m\n",
      "\u001b[0;32m<ipython-input-29-19c3796a4d63>\u001b[0m in \u001b[0;36mcalculate_llr\u001b[0;34m(reference_file, degraded_file, frame_length)\u001b[0m\n\u001b[1;32m     40\u001b[0m         \u001b[0mdeg_frame\u001b[0m \u001b[0;34m=\u001b[0m \u001b[0mdeg_frame\u001b[0m \u001b[0;34m*\u001b[0m \u001b[0mhamming\u001b[0m\u001b[0;34m(\u001b[0m\u001b[0mframe_length\u001b[0m\u001b[0;34m)\u001b[0m\u001b[0;34m\u001b[0m\u001b[0;34m\u001b[0m\u001b[0m\n\u001b[1;32m     41\u001b[0m \u001b[0;34m\u001b[0m\u001b[0m\n\u001b[0;32m---> 42\u001b[0;31m         \u001b[0mref_lpc\u001b[0m \u001b[0;34m=\u001b[0m \u001b[0mlpc\u001b[0m\u001b[0;34m(\u001b[0m\u001b[0mref_frame\u001b[0m\u001b[0;34m,\u001b[0m \u001b[0morder\u001b[0m\u001b[0;34m=\u001b[0m\u001b[0;36m12\u001b[0m\u001b[0;34m)\u001b[0m\u001b[0;34m\u001b[0m\u001b[0;34m\u001b[0m\u001b[0m\n\u001b[0m\u001b[1;32m     43\u001b[0m         \u001b[0mdeg_lpc\u001b[0m \u001b[0;34m=\u001b[0m \u001b[0mlpc\u001b[0m\u001b[0;34m(\u001b[0m\u001b[0mdeg_frame\u001b[0m\u001b[0;34m,\u001b[0m \u001b[0morder\u001b[0m\u001b[0;34m=\u001b[0m\u001b[0;36m12\u001b[0m\u001b[0;34m)\u001b[0m\u001b[0;34m\u001b[0m\u001b[0;34m\u001b[0m\u001b[0m\n\u001b[1;32m     44\u001b[0m \u001b[0;34m\u001b[0m\u001b[0m\n",
      "\u001b[0;32m<ipython-input-29-19c3796a4d63>\u001b[0m in \u001b[0;36mlpc\u001b[0;34m(signal, order)\u001b[0m\n\u001b[1;32m     17\u001b[0m     \u001b[0mr\u001b[0m \u001b[0;34m=\u001b[0m \u001b[0;34m-\u001b[0m\u001b[0mautocorr\u001b[0m\u001b[0;34m[\u001b[0m\u001b[0;36m1\u001b[0m\u001b[0;34m:\u001b[0m\u001b[0morder\u001b[0m \u001b[0;34m+\u001b[0m \u001b[0;36m1\u001b[0m\u001b[0;34m]\u001b[0m\u001b[0;34m\u001b[0m\u001b[0;34m\u001b[0m\u001b[0m\n\u001b[1;32m     18\u001b[0m \u001b[0;34m\u001b[0m\u001b[0m\n\u001b[0;32m---> 19\u001b[0;31m     \u001b[0ma\u001b[0m \u001b[0;34m=\u001b[0m \u001b[0msolve_toeplitz\u001b[0m\u001b[0;34m(\u001b[0m\u001b[0;34m(\u001b[0m\u001b[0mR\u001b[0m\u001b[0;34m,\u001b[0m \u001b[0mR\u001b[0m\u001b[0;34m)\u001b[0m\u001b[0;34m,\u001b[0m \u001b[0mr\u001b[0m\u001b[0;34m)\u001b[0m\u001b[0;34m\u001b[0m\u001b[0;34m\u001b[0m\u001b[0m\n\u001b[0m\u001b[1;32m     20\u001b[0m     \u001b[0;32mreturn\u001b[0m \u001b[0mnp\u001b[0m\u001b[0;34m.\u001b[0m\u001b[0mconcatenate\u001b[0m\u001b[0;34m(\u001b[0m\u001b[0;34m(\u001b[0m\u001b[0;34m[\u001b[0m\u001b[0;36m1\u001b[0m\u001b[0;34m]\u001b[0m\u001b[0;34m,\u001b[0m \u001b[0ma\u001b[0m\u001b[0;34m)\u001b[0m\u001b[0;34m)\u001b[0m\u001b[0;34m\u001b[0m\u001b[0;34m\u001b[0m\u001b[0m\n\u001b[1;32m     21\u001b[0m \u001b[0;34m\u001b[0m\u001b[0m\n",
      "\u001b[0;32m~/miniconda3/envs/wavernn/lib/python3.7/site-packages/scipy/linalg/basic.py\u001b[0m in \u001b[0;36msolve_toeplitz\u001b[0;34m(c_or_cr, b, check_finite)\u001b[0m\n\u001b[1;32m    678\u001b[0m     \u001b[0mb\u001b[0m \u001b[0;34m=\u001b[0m \u001b[0m_asarray_validated\u001b[0m\u001b[0;34m(\u001b[0m\u001b[0mb\u001b[0m\u001b[0;34m)\u001b[0m\u001b[0;34m\u001b[0m\u001b[0;34m\u001b[0m\u001b[0m\n\u001b[1;32m    679\u001b[0m     \u001b[0;32mif\u001b[0m \u001b[0mvals\u001b[0m\u001b[0;34m.\u001b[0m\u001b[0mshape\u001b[0m\u001b[0;34m[\u001b[0m\u001b[0;36m0\u001b[0m\u001b[0;34m]\u001b[0m \u001b[0;34m!=\u001b[0m \u001b[0;34m(\u001b[0m\u001b[0;36m2\u001b[0m\u001b[0;34m*\u001b[0m\u001b[0mb\u001b[0m\u001b[0;34m.\u001b[0m\u001b[0mshape\u001b[0m\u001b[0;34m[\u001b[0m\u001b[0;36m0\u001b[0m\u001b[0;34m]\u001b[0m \u001b[0;34m-\u001b[0m \u001b[0;36m1\u001b[0m\u001b[0;34m)\u001b[0m\u001b[0;34m:\u001b[0m\u001b[0;34m\u001b[0m\u001b[0;34m\u001b[0m\u001b[0m\n\u001b[0;32m--> 680\u001b[0;31m         \u001b[0;32mraise\u001b[0m \u001b[0mValueError\u001b[0m\u001b[0;34m(\u001b[0m\u001b[0;34m'incompatible dimensions'\u001b[0m\u001b[0;34m)\u001b[0m\u001b[0;34m\u001b[0m\u001b[0;34m\u001b[0m\u001b[0m\n\u001b[0m\u001b[1;32m    681\u001b[0m     \u001b[0;32mif\u001b[0m \u001b[0mnp\u001b[0m\u001b[0;34m.\u001b[0m\u001b[0miscomplexobj\u001b[0m\u001b[0;34m(\u001b[0m\u001b[0mvals\u001b[0m\u001b[0;34m)\u001b[0m \u001b[0;32mor\u001b[0m \u001b[0mnp\u001b[0m\u001b[0;34m.\u001b[0m\u001b[0miscomplexobj\u001b[0m\u001b[0;34m(\u001b[0m\u001b[0mb\u001b[0m\u001b[0;34m)\u001b[0m\u001b[0;34m:\u001b[0m\u001b[0;34m\u001b[0m\u001b[0;34m\u001b[0m\u001b[0m\n\u001b[1;32m    682\u001b[0m         \u001b[0mvals\u001b[0m \u001b[0;34m=\u001b[0m \u001b[0mnp\u001b[0m\u001b[0;34m.\u001b[0m\u001b[0masarray\u001b[0m\u001b[0;34m(\u001b[0m\u001b[0mvals\u001b[0m\u001b[0;34m,\u001b[0m \u001b[0mdtype\u001b[0m\u001b[0;34m=\u001b[0m\u001b[0mnp\u001b[0m\u001b[0;34m.\u001b[0m\u001b[0mcomplex128\u001b[0m\u001b[0;34m,\u001b[0m \u001b[0morder\u001b[0m\u001b[0;34m=\u001b[0m\u001b[0;34m'c'\u001b[0m\u001b[0;34m)\u001b[0m\u001b[0;34m\u001b[0m\u001b[0;34m\u001b[0m\u001b[0m\n",
      "\u001b[0;31mValueError\u001b[0m: incompatible dimensions"
     ]
    }
   ],
   "source": [
    "# llr_score = calculate_llr(reference_file, input_file)\n",
    "# llr_score"
   ]
  }
 ],
 "metadata": {
  "kernelspec": {
   "display_name": "wavernn",
   "language": "python",
   "name": "python3"
  },
  "language_info": {
   "codemirror_mode": {
    "name": "ipython",
    "version": 3
   },
   "file_extension": ".py",
   "mimetype": "text/x-python",
   "name": "python",
   "nbconvert_exporter": "python",
   "pygments_lexer": "ipython3",
   "version": "3.7.5"
  }
 },
 "nbformat": 4,
 "nbformat_minor": 2
}
