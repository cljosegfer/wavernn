{
 "cells": [
  {
   "cell_type": "markdown",
   "metadata": {},
   "source": [
    "# setup"
   ]
  },
  {
   "cell_type": "code",
   "execution_count": 1,
   "metadata": {},
   "outputs": [],
   "source": [
    "import numpy as np\n",
    "import pandas as pd\n",
    "import soundfile as sf\n",
    "import matplotlib.pyplot as plt\n",
    "\n",
    "from tqdm import tqdm"
   ]
  },
  {
   "cell_type": "code",
   "execution_count": 2,
   "metadata": {},
   "outputs": [],
   "source": [
    "from pesq import pesq\n",
    "from pesq import PesqError"
   ]
  },
  {
   "cell_type": "code",
   "execution_count": 3,
   "metadata": {},
   "outputs": [],
   "source": [
    "import librosa\n",
    "\n",
    "from scipy.spatial.distance import euclidean\n",
    "from fastdtw import fastdtw"
   ]
  },
  {
   "cell_type": "code",
   "execution_count": 4,
   "metadata": {},
   "outputs": [],
   "source": [
    "from pystoi.stoi import stoi"
   ]
  },
  {
   "cell_type": "code",
   "execution_count": 5,
   "metadata": {},
   "outputs": [],
   "source": [
    "import sewar.full_ref as sewar"
   ]
  },
  {
   "cell_type": "code",
   "execution_count": 6,
   "metadata": {},
   "outputs": [],
   "source": [
    "from scipy.signal import lfilter, hamming\n",
    "from scipy.linalg import solve_toeplitz, toeplitz"
   ]
  },
  {
   "cell_type": "markdown",
   "metadata": {},
   "source": [
    "# data"
   ]
  },
  {
   "cell_type": "code",
   "execution_count": 7,
   "metadata": {},
   "outputs": [],
   "source": [
    "input_file = 'model_outputs/lusiadas_mol.wavernn/1000k_steps_1_gen_batched_target11000_overlap550.wav'\n",
    "reference_file = 'model_outputs/lusiadas_mol.wavernn/1000k_steps_1_target.wav'"
   ]
  },
  {
   "cell_type": "code",
   "execution_count": 8,
   "metadata": {},
   "outputs": [],
   "source": [
    "ref_files = pd.read_csv('ref_test_set.txt', header = None)\n",
    "gen_files = pd.read_csv('gen_test_set.txt', header = None)"
   ]
  },
  {
   "cell_type": "code",
   "execution_count": 9,
   "metadata": {},
   "outputs": [],
   "source": [
    "for idx, row in ref_files.iterrows():\n",
    "    ref_file = row.values[0]\n",
    "    gen_file = gen_files[0][idx]\n",
    "\n",
    "    assert ref_file.split('/')[-1].split('_')[2] == gen_file.split('/')[-1].split('_')[2]\n",
    "    # print(ref_file, gen_file)"
   ]
  },
  {
   "cell_type": "markdown",
   "metadata": {},
   "source": [
    "# utils"
   ]
  },
  {
   "cell_type": "code",
   "execution_count": 10,
   "metadata": {},
   "outputs": [],
   "source": [
    "def load_audio(file_path):\n",
    "    data, rate = sf.read(file_path)\n",
    "    return data, rate"
   ]
  },
  {
   "cell_type": "markdown",
   "metadata": {},
   "source": [
    "# pesq"
   ]
  },
  {
   "cell_type": "code",
   "execution_count": 11,
   "metadata": {},
   "outputs": [],
   "source": [
    "def calculate_pesq(reference_file, degraded_file):\n",
    "    try:\n",
    "        ref, rate_ref = load_audio(reference_file)\n",
    "        deg, rate = load_audio(degraded_file)\n",
    "        assert rate == rate_ref\n",
    "\n",
    "        # if len(ref) > len(deg):\n",
    "        #     ref = ref[:len(deg)]\n",
    "        # else:\n",
    "        #     deg = deg[:len(ref)]\n",
    "\n",
    "        pesq_score = pesq(rate, ref, deg, 'nb')\n",
    "        \n",
    "        return pesq_score\n",
    "    except PesqError as e:\n",
    "        print(f\"PESQ Error: {e}\")\n",
    "        return None"
   ]
  },
  {
   "cell_type": "code",
   "execution_count": 12,
   "metadata": {},
   "outputs": [
    {
     "data": {
      "text/plain": [
       "4.548638343811035"
      ]
     },
     "execution_count": 12,
     "metadata": {},
     "output_type": "execute_result"
    }
   ],
   "source": [
    "pesq_score = calculate_pesq(reference_file, reference_file)\n",
    "pesq_score"
   ]
  },
  {
   "cell_type": "code",
   "execution_count": 13,
   "metadata": {},
   "outputs": [
    {
     "name": "stderr",
     "output_type": "stream",
     "text": [
      "279it [00:57,  4.89it/s]\n"
     ]
    }
   ],
   "source": [
    "log = []\n",
    "for idx, row in tqdm(ref_files.iterrows()):\n",
    "    ref_file = row.values[0]\n",
    "    gen_file = gen_files[0][idx]\n",
    "\n",
    "    assert ref_file.split('/')[-1].split('_')[2] == gen_file.split('/')[-1].split('_')[2]\n",
    "    pesq_score = calculate_pesq(ref_file, ref_file)\n",
    "    log.append(pesq_score)"
   ]
  },
  {
   "cell_type": "code",
   "execution_count": 14,
   "metadata": {},
   "outputs": [
    {
     "data": {
      "image/png": "[encoded data removed]",
      "text/plain": [
       "<Figure size 432x288 with 1 Axes>"
      ]
     },
     "metadata": {
      "needs_background": "light"
     },
     "output_type": "display_data"
    }
   ],
   "source": [
    "plt.hist(log);\n",
    "plt.title('pesq, mean {}, std {}'.format(np.mean(log), np.std(log)));"
   ]
  },
  {
   "cell_type": "markdown",
   "metadata": {},
   "source": [
    "# snr"
   ]
  },
  {
   "cell_type": "code",
   "execution_count": 15,
   "metadata": {},
   "outputs": [],
   "source": [
    "def calculate_snr(reference_file, degraded_file):\n",
    "    ref, rate_ref = load_audio(reference_file)\n",
    "    deg, rate_deg = load_audio(degraded_file)\n",
    "\n",
    "    if rate_ref != rate_deg:\n",
    "        raise ValueError(\"The reference and degraded files must have the same sampling rate\")\n",
    "\n",
    "    if len(ref) > len(deg):\n",
    "        ref = ref[:len(deg)]\n",
    "    else:\n",
    "        deg = deg[:len(ref)]\n",
    "\n",
    "    noise = ref - deg\n",
    "    signal_power = np.mean(ref ** 2)\n",
    "    noise_power = np.mean(noise ** 2)\n",
    "\n",
    "    snr = 10 * np.log10(signal_power / noise_power)\n",
    "    return snr"
   ]
  },
  {
   "cell_type": "code",
   "execution_count": 16,
   "metadata": {},
   "outputs": [
    {
     "name": "stderr",
     "output_type": "stream",
     "text": [
      "/home/josegfer/miniconda3/envs/wavernn/lib/python3.7/site-packages/ipykernel_launcher.py:17: RuntimeWarning: divide by zero encountered in double_scalars\n"
     ]
    },
    {
     "data": {
      "text/plain": [
       "inf"
      ]
     },
     "execution_count": 16,
     "metadata": {},
     "output_type": "execute_result"
    }
   ],
   "source": [
    "snr_score = calculate_snr(reference_file, reference_file)\n",
    "snr_score"
   ]
  },
  {
   "cell_type": "code",
   "execution_count": null,
   "metadata": {},
   "outputs": [],
   "source": [
    "log = []\n",
    "for idx, row in tqdm(ref_files.iterrows()):\n",
    "    ref_file = row.values[0]\n",
    "    gen_file = gen_files[0][idx]\n",
    "\n",
    "    assert ref_file.split('/')[-1].split('_')[2] == gen_file.split('/')[-1].split('_')[2]\n",
    "    snr_score = calculate_snr(ref_file, ref_file)\n",
    "    log.append(snr_score)"
   ]
  },
  {
   "cell_type": "code",
   "execution_count": null,
   "metadata": {},
   "outputs": [],
   "source": [
    "plt.hist(log);\n",
    "plt.title('snr, mean {}, std {}'.format(np.mean(log), np.std(log)));"
   ]
  },
  {
   "cell_type": "markdown",
   "metadata": {},
   "source": [
    "# mfcc dtw"
   ]
  },
  {
   "cell_type": "code",
   "execution_count": 17,
   "metadata": {},
   "outputs": [],
   "source": [
    "def calculate_mfcc(audio, rate, n_mfcc=13):\n",
    "    mfccs = librosa.feature.mfcc(y=audio, sr=rate, n_mfcc=n_mfcc)\n",
    "    return mfccs.T\n",
    "\n",
    "def compare_mfcc(reference_file, degraded_file, n_mfcc=13):\n",
    "    ref_audio, rate_ref = load_audio(reference_file)\n",
    "    deg_audio, rate_deg = load_audio(degraded_file)\n",
    "\n",
    "    if rate_ref != rate_deg:\n",
    "        raise ValueError(\"The reference and degraded files must have the same sampling rate\")\n",
    "\n",
    "    ref_mfcc = calculate_mfcc(ref_audio, rate_ref, n_mfcc = n_mfcc)\n",
    "    deg_mfcc = calculate_mfcc(deg_audio, rate_deg, n_mfcc = n_mfcc)\n",
    "\n",
    "    distance, path = fastdtw(ref_mfcc, deg_mfcc, dist=euclidean)\n",
    "    return distance"
   ]
  },
  {
   "cell_type": "code",
   "execution_count": 18,
   "metadata": {},
   "outputs": [
    {
     "data": {
      "text/plain": [
       "0.0"
      ]
     },
     "execution_count": 18,
     "metadata": {},
     "output_type": "execute_result"
    }
   ],
   "source": [
    "mfccdtw_score = compare_mfcc(reference_file, reference_file)\n",
    "mfccdtw_score"
   ]
  },
  {
   "cell_type": "code",
   "execution_count": 19,
   "metadata": {},
   "outputs": [
    {
     "name": "stderr",
     "output_type": "stream",
     "text": [
      "279it [00:30,  9.25it/s]\n"
     ]
    }
   ],
   "source": [
    "log = []\n",
    "for idx, row in tqdm(ref_files.iterrows()):\n",
    "    ref_file = row.values[0]\n",
    "    gen_file = gen_files[0][idx]\n",
    "\n",
    "    assert ref_file.split('/')[-1].split('_')[2] == gen_file.split('/')[-1].split('_')[2]\n",
    "    mfccdtw_score = compare_mfcc(ref_file, ref_file)\n",
    "    log.append(mfccdtw_score)"
   ]
  },
  {
   "cell_type": "code",
   "execution_count": 20,
   "metadata": {},
   "outputs": [
    {
     "data": {
      "image/png": "[encoded data removed]",
      "text/plain": [
       "<Figure size 432x288 with 1 Axes>"
      ]
     },
     "metadata": {
      "needs_background": "light"
     },
     "output_type": "display_data"
    }
   ],
   "source": [
    "plt.hist(log);\n",
    "plt.title('mfcc dtw, mean {}, std {}'.format(np.mean(log), np.std(log)));"
   ]
  },
  {
   "cell_type": "markdown",
   "metadata": {},
   "source": [
    "# stoi"
   ]
  },
  {
   "cell_type": "code",
   "execution_count": 21,
   "metadata": {},
   "outputs": [],
   "source": [
    "def calculate_stoi(reference_file, degraded_file):\n",
    "    ref, rate_ref = load_audio(reference_file)\n",
    "    deg, rate_deg = load_audio(degraded_file)\n",
    "\n",
    "    if rate_ref != rate_deg:\n",
    "        raise ValueError(\"The reference and degraded files must have the same sampling rate\")\n",
    "\n",
    "    if len(ref) > len(deg):\n",
    "        ref = ref[:len(deg)]\n",
    "    else:\n",
    "        deg = deg[:len(ref)]\n",
    "\n",
    "    stoi_score = stoi(ref, deg, rate_ref, extended=False)\n",
    "    return stoi_score"
   ]
  },
  {
   "cell_type": "code",
   "execution_count": 22,
   "metadata": {},
   "outputs": [
    {
     "data": {
      "text/plain": [
       "1.0"
      ]
     },
     "execution_count": 22,
     "metadata": {},
     "output_type": "execute_result"
    }
   ],
   "source": [
    "stoi_score = calculate_stoi(reference_file, reference_file)\n",
    "stoi_score"
   ]
  },
  {
   "cell_type": "code",
   "execution_count": 23,
   "metadata": {},
   "outputs": [
    {
     "name": "stderr",
     "output_type": "stream",
     "text": [
      "279it [00:22, 12.30it/s]\n"
     ]
    }
   ],
   "source": [
    "log = []\n",
    "for idx, row in tqdm(ref_files.iterrows()):\n",
    "    ref_file = row.values[0]\n",
    "    gen_file = gen_files[0][idx]\n",
    "\n",
    "    assert ref_file.split('/')[-1].split('_')[2] == gen_file.split('/')[-1].split('_')[2]\n",
    "    stoi_score = calculate_stoi(ref_file, ref_file)\n",
    "    log.append(stoi_score)"
   ]
  },
  {
   "cell_type": "code",
   "execution_count": 24,
   "metadata": {},
   "outputs": [
    {
     "data": {
      "image/png": "[encoded data removed]",
      "text/plain": [
       "<Figure size 432x288 with 1 Axes>"
      ]
     },
     "metadata": {
      "needs_background": "light"
     },
     "output_type": "display_data"
    }
   ],
   "source": [
    "plt.hist(log);\n",
    "plt.title('stoi, mean {}, std {}'.format(np.mean(log), np.std(log)));"
   ]
  },
  {
   "cell_type": "markdown",
   "metadata": {},
   "source": [
    "# composite"
   ]
  },
  {
   "cell_type": "code",
   "execution_count": 27,
   "metadata": {},
   "outputs": [],
   "source": [
    "def calculate_ccc(reference_file, degraded_file):\n",
    "    ref, rate_ref = load_audio(reference_file)\n",
    "    deg, rate_deg = load_audio(degraded_file)\n",
    "\n",
    "    if rate_ref != rate_deg:\n",
    "        raise ValueError(\"The reference and degraded files must have the same sampling rate\")\n",
    "\n",
    "    # min_len = min(len(ref_audio), len(deg_audio))\n",
    "    # ref_audio = ref_audio[:min_len]\n",
    "    # deg_audio = deg_audio[:min_len]\n",
    "\n",
    "    csig = sewar.csig(ref, deg)\n",
    "    cbak = sewar.cbak(ref, deg)\n",
    "    covl = sewar.covl(ref, deg)\n",
    "\n",
    "    return csig, cbak, covl"
   ]
  },
  {
   "cell_type": "code",
   "execution_count": 21,
   "metadata": {},
   "outputs": [
    {
     "ename": "AttributeError",
     "evalue": "module 'sewar.full_ref' has no attribute 'csig'",
     "output_type": "error",
     "traceback": [
      "\u001b[0;31m---------------------------------------------------------------------------\u001b[0m",
      "\u001b[0;31mAttributeError\u001b[0m                            Traceback (most recent call last)",
      "\u001b[0;32m<ipython-input-21-588d141bd8b1>\u001b[0m in \u001b[0;36m<module>\u001b[0;34m\u001b[0m\n\u001b[0;32m----> 1\u001b[0;31m \u001b[0mcsig\u001b[0m\u001b[0;34m,\u001b[0m \u001b[0mcbak\u001b[0m\u001b[0;34m,\u001b[0m \u001b[0mcovl\u001b[0m \u001b[0;34m=\u001b[0m \u001b[0mcalculate_ccc\u001b[0m\u001b[0;34m(\u001b[0m\u001b[0mreference_file\u001b[0m\u001b[0;34m,\u001b[0m \u001b[0minput_file\u001b[0m\u001b[0;34m)\u001b[0m\u001b[0;34m\u001b[0m\u001b[0;34m\u001b[0m\u001b[0m\n\u001b[0m\u001b[1;32m      2\u001b[0m \u001b[0mcsig\u001b[0m\u001b[0;34m,\u001b[0m \u001b[0mcbak\u001b[0m\u001b[0;34m,\u001b[0m \u001b[0mcovl\u001b[0m\u001b[0;34m\u001b[0m\u001b[0;34m\u001b[0m\u001b[0m\n",
      "\u001b[0;32m<ipython-input-20-7201ad102ace>\u001b[0m in \u001b[0;36mcalculate_ccc\u001b[0;34m(reference_file, degraded_file)\u001b[0m\n\u001b[1;32m     10\u001b[0m     \u001b[0;31m# deg_audio = deg_audio[:min_len]\u001b[0m\u001b[0;34m\u001b[0m\u001b[0;34m\u001b[0m\u001b[0;34m\u001b[0m\u001b[0m\n\u001b[1;32m     11\u001b[0m \u001b[0;34m\u001b[0m\u001b[0m\n\u001b[0;32m---> 12\u001b[0;31m     \u001b[0mcsig\u001b[0m \u001b[0;34m=\u001b[0m \u001b[0msewar\u001b[0m\u001b[0;34m.\u001b[0m\u001b[0mcsig\u001b[0m\u001b[0;34m(\u001b[0m\u001b[0mref\u001b[0m\u001b[0;34m,\u001b[0m \u001b[0mdeg\u001b[0m\u001b[0;34m)\u001b[0m\u001b[0;34m\u001b[0m\u001b[0;34m\u001b[0m\u001b[0m\n\u001b[0m\u001b[1;32m     13\u001b[0m     \u001b[0mcbak\u001b[0m \u001b[0;34m=\u001b[0m \u001b[0msewar\u001b[0m\u001b[0;34m.\u001b[0m\u001b[0mcbak\u001b[0m\u001b[0;34m(\u001b[0m\u001b[0mref\u001b[0m\u001b[0;34m,\u001b[0m \u001b[0mdeg\u001b[0m\u001b[0;34m)\u001b[0m\u001b[0;34m\u001b[0m\u001b[0;34m\u001b[0m\u001b[0m\n\u001b[1;32m     14\u001b[0m     \u001b[0mcovl\u001b[0m \u001b[0;34m=\u001b[0m \u001b[0msewar\u001b[0m\u001b[0;34m.\u001b[0m\u001b[0mcovl\u001b[0m\u001b[0;34m(\u001b[0m\u001b[0mref\u001b[0m\u001b[0;34m,\u001b[0m \u001b[0mdeg\u001b[0m\u001b[0;34m)\u001b[0m\u001b[0;34m\u001b[0m\u001b[0;34m\u001b[0m\u001b[0m\n",
      "\u001b[0;31mAttributeError\u001b[0m: module 'sewar.full_ref' has no attribute 'csig'"
     ]
    }
   ],
   "source": [
    "# csig, cbak, covl = calculate_ccc(reference_file, input_file)\n",
    "# csig, cbak, covl"
   ]
  },
  {
   "cell_type": "markdown",
   "metadata": {},
   "source": [
    "# lsd"
   ]
  },
  {
   "cell_type": "code",
   "execution_count": 25,
   "metadata": {},
   "outputs": [],
   "source": [
    "def log_spectral_distance(ref_audio, deg_audio, sr):\n",
    "    ref_spec = np.log(np.abs(librosa.stft(ref_audio)) + 1e-10)\n",
    "    deg_spec = np.log(np.abs(librosa.stft(deg_audio)) + 1e-10)\n",
    "\n",
    "    lsd = np.mean(np.sqrt(np.mean((ref_spec - deg_spec) ** 2, axis=0)))\n",
    "    return lsd\n",
    "\n",
    "def calculate_lsd(reference_file, degraded_file):\n",
    "    ref, rate_ref = load_audio(reference_file)\n",
    "    deg, rate_deg = load_audio(degraded_file)\n",
    "\n",
    "    if rate_ref != rate_deg:\n",
    "        raise ValueError(\"The reference and degraded files must have the same sampling rate\")\n",
    "\n",
    "    min_len = min(len(ref), len(deg))\n",
    "    ref_audio = ref[:min_len]\n",
    "    deg_audio = deg[:min_len]\n",
    "\n",
    "    lsd = log_spectral_distance(ref_audio, deg_audio, rate_ref)\n",
    "    return lsd"
   ]
  },
  {
   "cell_type": "code",
   "execution_count": 26,
   "metadata": {},
   "outputs": [
    {
     "data": {
      "text/plain": [
       "0.0"
      ]
     },
     "execution_count": 26,
     "metadata": {},
     "output_type": "execute_result"
    }
   ],
   "source": [
    "lsd_score = calculate_lsd(reference_file, reference_file)\n",
    "lsd_score"
   ]
  },
  {
   "cell_type": "code",
   "execution_count": 27,
   "metadata": {},
   "outputs": [
    {
     "name": "stderr",
     "output_type": "stream",
     "text": [
      "279it [00:06, 44.90it/s]\n"
     ]
    }
   ],
   "source": [
    "log = []\n",
    "for idx, row in tqdm(ref_files.iterrows()):\n",
    "    ref_file = row.values[0]\n",
    "    gen_file = gen_files[0][idx]\n",
    "\n",
    "    assert ref_file.split('/')[-1].split('_')[2] == gen_file.split('/')[-1].split('_')[2]\n",
    "    lsd_score = calculate_lsd(ref_file, ref_file)\n",
    "    log.append(lsd_score)"
   ]
  },
  {
   "cell_type": "code",
   "execution_count": 28,
   "metadata": {},
   "outputs": [
    {
     "data": {
      "image/png": "[encoded data removed]",
      "text/plain": [
       "<Figure size 432x288 with 1 Axes>"
      ]
     },
     "metadata": {
      "needs_background": "light"
     },
     "output_type": "display_data"
    }
   ],
   "source": [
    "plt.hist(log);\n",
    "plt.title('lsd, mean {}, std {}'.format(np.mean(log), np.std(log)));"
   ]
  },
  {
   "cell_type": "markdown",
   "metadata": {},
   "source": [
    "# llr"
   ]
  },
  {
   "cell_type": "code",
   "execution_count": 32,
   "metadata": {},
   "outputs": [],
   "source": [
    "def frame_signal(signal, frame_length):\n",
    "    frame_step = frame_length // 2\n",
    "    signal_length = len(signal)\n",
    "    num_frames = 1 + int(np.ceil((signal_length - frame_length) / frame_step))\n",
    "    pad_signal_length = num_frames * frame_step + frame_length\n",
    "    pad_signal = np.append(signal, np.zeros(pad_signal_length - signal_length))\n",
    "\n",
    "    indices = np.tile(np.arange(0, frame_length), (num_frames, 1)) + \\\n",
    "                np.tile(np.arange(0, num_frames * frame_step, frame_step), (frame_length, 1)).T\n",
    "    frames = pad_signal[indices.astype(np.int32, copy=False)]\n",
    "    return frames\n",
    "\n",
    "def lpc(signal, order):\n",
    "    autocorr = np.correlate(signal, signal, mode='full')\n",
    "    autocorr = autocorr[len(autocorr) // 2:]\n",
    "    R = autocorr[:order + 1]\n",
    "    r = -autocorr[1:order + 1]\n",
    "\n",
    "    a = solve_toeplitz((R, R), r)\n",
    "    return np.concatenate(([1], a))\n",
    "\n",
    "def calculate_llr(reference_file, degraded_file, frame_length=512):\n",
    "    ref_audio, rate_ref = load_audio(reference_file)\n",
    "    deg_audio, rate_deg = load_audio(degraded_file)\n",
    "\n",
    "    if rate_ref != rate_deg:\n",
    "        raise ValueError(\"The reference and degraded files must have the same sampling rate\")\n",
    "    \n",
    "    # Ensure the signals have the same length\n",
    "    min_len = min(len(ref_audio), len(deg_audio))\n",
    "    ref_audio = ref_audio[:min_len]\n",
    "    deg_audio = deg_audio[:min_len]\n",
    "    \n",
    "    ref_frames = frame_signal(ref_audio, frame_length)\n",
    "    deg_frames = frame_signal(deg_audio, frame_length)\n",
    "   \n",
    "    llr_values = []\n",
    "    for ref_frame, deg_frame in zip(ref_frames, deg_frames):\n",
    "        ref_frame = ref_frame * hamming(frame_length)\n",
    "        deg_frame = deg_frame * hamming(frame_length)\n",
    "\n",
    "        ref_lpc = lpc(ref_frame, order=12)\n",
    "        deg_lpc = lpc(deg_frame, order=12)\n",
    "\n",
    "        ref_pred = lfilter([0] + -1 * ref_lpc[1:], 1, ref_frame)\n",
    "        deg_pred = lfilter([0] + -1 * deg_lpc[1:], 1, ref_frame)\n",
    "\n",
    "        error_signal = ref_pred - deg_pred\n",
    "        num = np.dot(error_signal, error_signal)\n",
    "        denom = np.dot(ref_pred, ref_pred)\n",
    "\n",
    "        llr_frame = 10 * np.log10(num / denom)\n",
    "        llr_values.append(llr_frame)\n",
    "\n",
    "    return np.mean(llr_values)"
   ]
  },
  {
   "cell_type": "code",
   "execution_count": 30,
   "metadata": {},
   "outputs": [
    {
     "ename": "ValueError",
     "evalue": "incompatible dimensions",
     "output_type": "error",
     "traceback": [
      "\u001b[0;31m---------------------------------------------------------------------------\u001b[0m",
      "\u001b[0;31mValueError\u001b[0m                                Traceback (most recent call last)",
      "\u001b[0;32m<ipython-input-30-bcafdddd6452>\u001b[0m in \u001b[0;36m<module>\u001b[0;34m\u001b[0m\n\u001b[0;32m----> 1\u001b[0;31m \u001b[0mllr_score\u001b[0m \u001b[0;34m=\u001b[0m \u001b[0mcalculate_llr\u001b[0m\u001b[0;34m(\u001b[0m\u001b[0mreference_file\u001b[0m\u001b[0;34m,\u001b[0m \u001b[0minput_file\u001b[0m\u001b[0;34m)\u001b[0m\u001b[0;34m\u001b[0m\u001b[0;34m\u001b[0m\u001b[0m\n\u001b[0m\u001b[1;32m      2\u001b[0m \u001b[0mllr_score\u001b[0m\u001b[0;34m\u001b[0m\u001b[0;34m\u001b[0m\u001b[0m\n",
      "\u001b[0;32m<ipython-input-29-19c3796a4d63>\u001b[0m in \u001b[0;36mcalculate_llr\u001b[0;34m(reference_file, degraded_file, frame_length)\u001b[0m\n\u001b[1;32m     40\u001b[0m         \u001b[0mdeg_frame\u001b[0m \u001b[0;34m=\u001b[0m \u001b[0mdeg_frame\u001b[0m \u001b[0;34m*\u001b[0m \u001b[0mhamming\u001b[0m\u001b[0;34m(\u001b[0m\u001b[0mframe_length\u001b[0m\u001b[0;34m)\u001b[0m\u001b[0;34m\u001b[0m\u001b[0;34m\u001b[0m\u001b[0m\n\u001b[1;32m     41\u001b[0m \u001b[0;34m\u001b[0m\u001b[0m\n\u001b[0;32m---> 42\u001b[0;31m         \u001b[0mref_lpc\u001b[0m \u001b[0;34m=\u001b[0m \u001b[0mlpc\u001b[0m\u001b[0;34m(\u001b[0m\u001b[0mref_frame\u001b[0m\u001b[0;34m,\u001b[0m \u001b[0morder\u001b[0m\u001b[0;34m=\u001b[0m\u001b[0;36m12\u001b[0m\u001b[0;34m)\u001b[0m\u001b[0;34m\u001b[0m\u001b[0;34m\u001b[0m\u001b[0m\n\u001b[0m\u001b[1;32m     43\u001b[0m         \u001b[0mdeg_lpc\u001b[0m \u001b[0;34m=\u001b[0m \u001b[0mlpc\u001b[0m\u001b[0;34m(\u001b[0m\u001b[0mdeg_frame\u001b[0m\u001b[0;34m,\u001b[0m \u001b[0morder\u001b[0m\u001b[0;34m=\u001b[0m\u001b[0;36m12\u001b[0m\u001b[0;34m)\u001b[0m\u001b[0;34m\u001b[0m\u001b[0;34m\u001b[0m\u001b[0m\n\u001b[1;32m     44\u001b[0m \u001b[0;34m\u001b[0m\u001b[0m\n",
      "\u001b[0;32m<ipython-input-29-19c3796a4d63>\u001b[0m in \u001b[0;36mlpc\u001b[0;34m(signal, order)\u001b[0m\n\u001b[1;32m     17\u001b[0m     \u001b[0mr\u001b[0m \u001b[0;34m=\u001b[0m \u001b[0;34m-\u001b[0m\u001b[0mautocorr\u001b[0m\u001b[0;34m[\u001b[0m\u001b[0;36m1\u001b[0m\u001b[0;34m:\u001b[0m\u001b[0morder\u001b[0m \u001b[0;34m+\u001b[0m \u001b[0;36m1\u001b[0m\u001b[0;34m]\u001b[0m\u001b[0;34m\u001b[0m\u001b[0;34m\u001b[0m\u001b[0m\n\u001b[1;32m     18\u001b[0m \u001b[0;34m\u001b[0m\u001b[0m\n\u001b[0;32m---> 19\u001b[0;31m     \u001b[0ma\u001b[0m \u001b[0;34m=\u001b[0m \u001b[0msolve_toeplitz\u001b[0m\u001b[0;34m(\u001b[0m\u001b[0;34m(\u001b[0m\u001b[0mR\u001b[0m\u001b[0;34m,\u001b[0m \u001b[0mR\u001b[0m\u001b[0;34m)\u001b[0m\u001b[0;34m,\u001b[0m \u001b[0mr\u001b[0m\u001b[0;34m)\u001b[0m\u001b[0;34m\u001b[0m\u001b[0;34m\u001b[0m\u001b[0m\n\u001b[0m\u001b[1;32m     20\u001b[0m     \u001b[0;32mreturn\u001b[0m \u001b[0mnp\u001b[0m\u001b[0;34m.\u001b[0m\u001b[0mconcatenate\u001b[0m\u001b[0;34m(\u001b[0m\u001b[0;34m(\u001b[0m\u001b[0;34m[\u001b[0m\u001b[0;36m1\u001b[0m\u001b[0;34m]\u001b[0m\u001b[0;34m,\u001b[0m \u001b[0ma\u001b[0m\u001b[0;34m)\u001b[0m\u001b[0;34m)\u001b[0m\u001b[0;34m\u001b[0m\u001b[0;34m\u001b[0m\u001b[0m\n\u001b[1;32m     21\u001b[0m \u001b[0;34m\u001b[0m\u001b[0m\n",
      "\u001b[0;32m~/miniconda3/envs/wavernn/lib/python3.7/site-packages/scipy/linalg/basic.py\u001b[0m in \u001b[0;36msolve_toeplitz\u001b[0;34m(c_or_cr, b, check_finite)\u001b[0m\n\u001b[1;32m    678\u001b[0m     \u001b[0mb\u001b[0m \u001b[0;34m=\u001b[0m \u001b[0m_asarray_validated\u001b[0m\u001b[0;34m(\u001b[0m\u001b[0mb\u001b[0m\u001b[0;34m)\u001b[0m\u001b[0;34m\u001b[0m\u001b[0;34m\u001b[0m\u001b[0m\n\u001b[1;32m    679\u001b[0m     \u001b[0;32mif\u001b[0m \u001b[0mvals\u001b[0m\u001b[0;34m.\u001b[0m\u001b[0mshape\u001b[0m\u001b[0;34m[\u001b[0m\u001b[0;36m0\u001b[0m\u001b[0;34m]\u001b[0m \u001b[0;34m!=\u001b[0m \u001b[0;34m(\u001b[0m\u001b[0;36m2\u001b[0m\u001b[0;34m*\u001b[0m\u001b[0mb\u001b[0m\u001b[0;34m.\u001b[0m\u001b[0mshape\u001b[0m\u001b[0;34m[\u001b[0m\u001b[0;36m0\u001b[0m\u001b[0;34m]\u001b[0m \u001b[0;34m-\u001b[0m \u001b[0;36m1\u001b[0m\u001b[0;34m)\u001b[0m\u001b[0;34m:\u001b[0m\u001b[0;34m\u001b[0m\u001b[0;34m\u001b[0m\u001b[0m\n\u001b[0;32m--> 680\u001b[0;31m         \u001b[0;32mraise\u001b[0m \u001b[0mValueError\u001b[0m\u001b[0;34m(\u001b[0m\u001b[0;34m'incompatible dimensions'\u001b[0m\u001b[0;34m)\u001b[0m\u001b[0;34m\u001b[0m\u001b[0;34m\u001b[0m\u001b[0m\n\u001b[0m\u001b[1;32m    681\u001b[0m     \u001b[0;32mif\u001b[0m \u001b[0mnp\u001b[0m\u001b[0;34m.\u001b[0m\u001b[0miscomplexobj\u001b[0m\u001b[0;34m(\u001b[0m\u001b[0mvals\u001b[0m\u001b[0;34m)\u001b[0m \u001b[0;32mor\u001b[0m \u001b[0mnp\u001b[0m\u001b[0;34m.\u001b[0m\u001b[0miscomplexobj\u001b[0m\u001b[0;34m(\u001b[0m\u001b[0mb\u001b[0m\u001b[0;34m)\u001b[0m\u001b[0;34m:\u001b[0m\u001b[0;34m\u001b[0m\u001b[0;34m\u001b[0m\u001b[0m\n\u001b[1;32m    682\u001b[0m         \u001b[0mvals\u001b[0m \u001b[0;34m=\u001b[0m \u001b[0mnp\u001b[0m\u001b[0;34m.\u001b[0m\u001b[0masarray\u001b[0m\u001b[0;34m(\u001b[0m\u001b[0mvals\u001b[0m\u001b[0;34m,\u001b[0m \u001b[0mdtype\u001b[0m\u001b[0;34m=\u001b[0m\u001b[0mnp\u001b[0m\u001b[0;34m.\u001b[0m\u001b[0mcomplex128\u001b[0m\u001b[0;34m,\u001b[0m \u001b[0morder\u001b[0m\u001b[0;34m=\u001b[0m\u001b[0;34m'c'\u001b[0m\u001b[0;34m)\u001b[0m\u001b[0;34m\u001b[0m\u001b[0;34m\u001b[0m\u001b[0m\n",
      "\u001b[0;31mValueError\u001b[0m: incompatible dimensions"
     ]
    }
   ],
   "source": [
    "# llr_score = calculate_llr(reference_file, input_file)\n",
    "# llr_score"
   ]
  }
 ],
 "metadata": {
  "kernelspec": {
   "display_name": "wavernn",
   "language": "python",
   "name": "python3"
  },
  "language_info": {
   "codemirror_mode": {
    "name": "ipython",
    "version": 3
   },
   "file_extension": ".py",
   "mimetype": "text/x-python",
   "name": "python",
   "nbconvert_exporter": "python",
   "pygments_lexer": "ipython3",
   "version": "3.7.5"
  }
 },
 "nbformat": 4,
 "nbformat_minor": 2
}
