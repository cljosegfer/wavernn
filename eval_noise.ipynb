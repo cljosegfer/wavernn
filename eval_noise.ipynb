{
 "cells": [
  {
   "cell_type": "markdown",
   "metadata": {},
   "source": [
    "# setup"
   ]
  },
  {
   "cell_type": "code",
   "execution_count": 1,
   "metadata": {},
   "outputs": [],
   "source": [
    "import numpy as np\n",
    "import pandas as pd\n",
    "import soundfile as sf\n",
    "import matplotlib.pyplot as plt\n",
    "import librosa\n",
    "import sewar.full_ref as sewar\n",
    "\n",
    "from tqdm import tqdm\n",
    "from pesq import pesq\n",
    "from pesq import PesqError\n",
    "from scipy.spatial.distance import euclidean\n",
    "from fastdtw import fastdtw\n",
    "from pystoi.stoi import stoi\n",
    "from scipy.signal import lfilter, hamming\n",
    "from scipy.linalg import solve_toeplitz, toeplitz"
   ]
  },
  {
   "cell_type": "markdown",
   "metadata": {},
   "source": [
    "# data"
   ]
  },
  {
   "cell_type": "code",
   "execution_count": 2,
   "metadata": {},
   "outputs": [],
   "source": [
    "input_file = 'model_outputs/lusiadas_mol.wavernn/1000k_steps_1_gen_batched_target11000_overlap550.wav'\n",
    "reference_file = 'model_outputs/lusiadas_mol.wavernn/1000k_steps_1_target.wav'\n",
    "ref_files = pd.read_csv('ref_test_set.txt', header = None)\n",
    "gen_files = pd.read_csv('gen_test_set.txt', header = None)"
   ]
  },
  {
   "cell_type": "code",
   "execution_count": 3,
   "metadata": {},
   "outputs": [
    {
     "name": "stderr",
     "output_type": "stream",
     "text": [
      "279it [00:00, 1789.15it/s]\n"
     ]
    }
   ],
   "source": [
    "for idx, row in tqdm(ref_files.iterrows()):\n",
    "    ref_file = row.values[0]\n",
    "    gen_file = gen_files[0][idx]\n",
    "\n",
    "    assert ref_file.split('/')[-1].split('_')[2] == gen_file.split('/')[-1].split('_')[2]\n",
    "    # print(ref_file, gen_file)"
   ]
  },
  {
   "cell_type": "markdown",
   "metadata": {},
   "source": [
    "# utils"
   ]
  },
  {
   "cell_type": "code",
   "execution_count": 4,
   "metadata": {},
   "outputs": [],
   "source": [
    "def load_audio(file_path):\n",
    "    data, rate = sf.read(file_path)\n",
    "    return data, rate"
   ]
  },
  {
   "cell_type": "code",
   "execution_count": 5,
   "metadata": {},
   "outputs": [],
   "source": [
    "def add_noise(audio_file, noise_level):\n",
    "    audio, _ = load_audio(audio_file)\n",
    "    amplitude = max(audio) * noise_level\n",
    "    noise = np.random.normal(0, amplitude, audio.shape)\n",
    "    return audio + noise"
   ]
  },
  {
   "cell_type": "markdown",
   "metadata": {},
   "source": [
    "# pesq"
   ]
  },
  {
   "cell_type": "code",
   "execution_count": 6,
   "metadata": {},
   "outputs": [],
   "source": [
    "def calculate_pesq(reference_file, degraded_file):\n",
    "    try:\n",
    "        ref, rate_ref = load_audio(reference_file)\n",
    "        deg, rate = load_audio(degraded_file)\n",
    "        assert rate == rate_ref\n",
    "\n",
    "        # if len(ref) > len(deg):\n",
    "        #     ref = ref[:len(deg)]\n",
    "        # else:\n",
    "        #     deg = deg[:len(ref)]\n",
    "\n",
    "        pesq_score = pesq(rate, ref, deg, 'nb')\n",
    "        \n",
    "        return pesq_score\n",
    "    except PesqError as e:\n",
    "        print(f\"PESQ Error: {e}\")\n",
    "        return None"
   ]
  },
  {
   "cell_type": "code",
   "execution_count": 7,
   "metadata": {},
   "outputs": [],
   "source": [
    "def calculate_pesq_solo(reference_file, noise_level):\n",
    "    try:\n",
    "        ref, rate = load_audio(reference_file)\n",
    "\n",
    "        amplitude = max(ref) * noise_level\n",
    "        noise = np.random.normal(0, amplitude, ref.shape)\n",
    "        deg = ref + noise\n",
    "\n",
    "        pesq_score = pesq(rate, ref, deg, 'nb')\n",
    "        \n",
    "        return pesq_score\n",
    "    except PesqError as e:\n",
    "        print(f\"PESQ Error: {e}\")\n",
    "        return None"
   ]
  },
  {
   "cell_type": "code",
   "execution_count": 8,
   "metadata": {},
   "outputs": [
    {
     "name": "stderr",
     "output_type": "stream",
     "text": [
      "279it [01:28,  3.17it/s]\n"
     ]
    }
   ],
   "source": [
    "log = []\n",
    "for idx, row in tqdm(ref_files.iterrows()):\n",
    "    ref_file = row.values[0]\n",
    "    gen_file = gen_files[0][idx]\n",
    "\n",
    "    assert ref_file.split('/')[-1].split('_')[2] == gen_file.split('/')[-1].split('_')[2]\n",
    "    pesq_score = calculate_pesq(ref_file, gen_file)\n",
    "    log.append(pesq_score)"
   ]
  },
  {
   "cell_type": "code",
   "execution_count": 14,
   "metadata": {},
   "outputs": [
    {
     "data": {
      "image/png": "[encoded data removed]",
      "text/plain": [
       "<Figure size 432x288 with 1 Axes>"
      ]
     },
     "metadata": {
      "needs_background": "light"
     },
     "output_type": "display_data"
    }
   ],
   "source": [
    "mu = np.mean(log)\n",
    "\n",
    "plt.hist(log, bins = 100, density = True);\n",
    "plt.title('pesq, mean {:.2f}, std {:.2f}'.format(np.mean(log), np.std(log)));"
   ]
  },
  {
   "cell_type": "code",
   "execution_count": 20,
   "metadata": {},
   "outputs": [
    {
     "name": "stderr",
     "output_type": "stream",
     "text": [
      "100%|██████████| 15/15 [16:19<00:00, 65.27s/it]\n"
     ]
    }
   ],
   "source": [
    "loglog = []\n",
    "for noise in tqdm(np.linspace(1e-3, 1e-1, 15)):\n",
    "    log = []\n",
    "    for idx, row in (ref_files.iterrows()):\n",
    "        ref_file = row.values[0]\n",
    "        pesq_score = calculate_pesq_solo(ref_file, noise)\n",
    "        log.append(pesq_score)\n",
    "    loglog.append(np.mean(log))"
   ]
  },
  {
   "cell_type": "code",
   "execution_count": 25,
   "metadata": {},
   "outputs": [
    {
     "data": {
      "image/png": "[encoded data removed]",
      "text/plain": [
       "<Figure size 432x288 with 1 Axes>"
      ]
     },
     "metadata": {
      "needs_background": "light"
     },
     "output_type": "display_data"
    }
   ],
   "source": [
    "plt.plot(np.linspace(1e-3, 1e-1, 15), loglog);\n",
    "plt.axhline(y = mu, color = 'tab:red');"
   ]
  },
  {
   "cell_type": "markdown",
   "metadata": {},
   "source": [
    "# snr"
   ]
  },
  {
   "cell_type": "code",
   "execution_count": 26,
   "metadata": {},
   "outputs": [],
   "source": [
    "def calculate_snr(reference_file, degraded_file):\n",
    "    ref, rate_ref = load_audio(reference_file)\n",
    "    deg, rate_deg = load_audio(degraded_file)\n",
    "\n",
    "    if rate_ref != rate_deg:\n",
    "        raise ValueError(\"The reference and degraded files must have the same sampling rate\")\n",
    "\n",
    "    if len(ref) > len(deg):\n",
    "        ref = ref[:len(deg)]\n",
    "    else:\n",
    "        deg = deg[:len(ref)]\n",
    "\n",
    "    noise = ref - deg\n",
    "    signal_power = np.mean(ref ** 2)\n",
    "    noise_power = np.mean(noise ** 2)\n",
    "\n",
    "    snr = 10 * np.log10(signal_power / noise_power)\n",
    "    return snr"
   ]
  },
  {
   "cell_type": "code",
   "execution_count": 27,
   "metadata": {},
   "outputs": [],
   "source": [
    "def calculate_snr_solo(reference_file, noise_level):\n",
    "    ref, rate_ref = load_audio(reference_file)\n",
    "    amplitude = max(ref) * noise_level\n",
    "    deg = ref + np.random.normal(0, amplitude, ref.shape)\n",
    "    \n",
    "    noise = ref - deg\n",
    "    signal_power = np.mean(ref ** 2)\n",
    "    noise_power = np.mean(noise ** 2)\n",
    "\n",
    "    snr = 10 * np.log10(signal_power / noise_power)\n",
    "    return snr"
   ]
  },
  {
   "cell_type": "code",
   "execution_count": 34,
   "metadata": {},
   "outputs": [
    {
     "name": "stderr",
     "output_type": "stream",
     "text": [
      "279it [00:00, 587.72it/s]\n"
     ]
    }
   ],
   "source": [
    "log = []\n",
    "for idx, row in tqdm(ref_files.iterrows()):\n",
    "    ref_file = row.values[0]\n",
    "    gen_file = gen_files[0][idx]\n",
    "\n",
    "    assert ref_file.split('/')[-1].split('_')[2] == gen_file.split('/')[-1].split('_')[2]\n",
    "    snr_score = calculate_snr(ref_file, gen_file)\n",
    "    log.append(snr_score)"
   ]
  },
  {
   "cell_type": "code",
   "execution_count": 35,
   "metadata": {},
   "outputs": [
    {
     "data": {
      "image/png": "[encoded data removed]",
      "text/plain": [
       "<Figure size 432x288 with 1 Axes>"
      ]
     },
     "metadata": {
      "needs_background": "light"
     },
     "output_type": "display_data"
    }
   ],
   "source": [
    "mu = np.mean(log)\n",
    "\n",
    "plt.hist(log, bins = 100, density = True);\n",
    "plt.title('snr, mean {:.2f}, std {:.2f}'.format(np.mean(log), np.std(log)));"
   ]
  },
  {
   "cell_type": "code",
   "execution_count": 32,
   "metadata": {},
   "outputs": [
    {
     "name": "stderr",
     "output_type": "stream",
     "text": [
      "100%|██████████| 15/15 [01:37<00:00,  6.52s/it]\n"
     ]
    }
   ],
   "source": [
    "loglog = []\n",
    "for noise in tqdm(np.linspace(1e-3, 5e-1, 15)):\n",
    "    log = []\n",
    "    for idx, row in (ref_files.iterrows()):\n",
    "        ref_file = row.values[0]\n",
    "        pesq_score = calculate_snr_solo(ref_file, noise)\n",
    "        log.append(pesq_score)\n",
    "    loglog.append(np.mean(log))"
   ]
  },
  {
   "cell_type": "code",
   "execution_count": 33,
   "metadata": {},
   "outputs": [
    {
     "data": {
      "image/png": "[encoded data removed]",
      "text/plain": [
       "<Figure size 432x288 with 1 Axes>"
      ]
     },
     "metadata": {
      "needs_background": "light"
     },
     "output_type": "display_data"
    }
   ],
   "source": [
    "plt.plot(np.linspace(1e-3, 5e-1, 15), loglog);\n",
    "plt.axhline(y = mu, color = 'tab:red');"
   ]
  },
  {
   "cell_type": "markdown",
   "metadata": {},
   "source": [
    "# mfcc dtw"
   ]
  },
  {
   "cell_type": "code",
   "execution_count": 36,
   "metadata": {},
   "outputs": [],
   "source": [
    "def calculate_mfcc(audio, rate, n_mfcc=13):\n",
    "    mfccs = librosa.feature.mfcc(y=audio, sr=rate, n_mfcc=n_mfcc)\n",
    "    return mfccs.T\n",
    "\n",
    "def compare_mfcc(reference_file, degraded_file, n_mfcc=13):\n",
    "    ref_audio, rate_ref = load_audio(reference_file)\n",
    "    deg_audio, rate_deg = load_audio(degraded_file)\n",
    "\n",
    "    if rate_ref != rate_deg:\n",
    "        raise ValueError(\"The reference and degraded files must have the same sampling rate\")\n",
    "\n",
    "    ref_mfcc = calculate_mfcc(ref_audio, rate_ref, n_mfcc = n_mfcc)\n",
    "    deg_mfcc = calculate_mfcc(deg_audio, rate_deg, n_mfcc = n_mfcc)\n",
    "\n",
    "    distance, path = fastdtw(ref_mfcc, deg_mfcc, dist=euclidean)\n",
    "    return distance"
   ]
  },
  {
   "cell_type": "code",
   "execution_count": 37,
   "metadata": {},
   "outputs": [],
   "source": [
    "def compare_mfcc_solo(reference_file, noise_level, n_mfcc=13):\n",
    "    ref_audio, rate_ref = load_audio(reference_file)\n",
    "    amplitude = max(ref_audio) * noise_level\n",
    "    deg_audio = ref_audio + np.random.normal(0, amplitude, ref_audio.shape)\n",
    "\n",
    "    ref_mfcc = calculate_mfcc(ref_audio, rate_ref, n_mfcc = n_mfcc)\n",
    "    deg_mfcc = calculate_mfcc(deg_audio, rate_ref, n_mfcc = n_mfcc)\n",
    "\n",
    "    distance, path = fastdtw(ref_mfcc, deg_mfcc, dist=euclidean)\n",
    "    return distance"
   ]
  },
  {
   "cell_type": "code",
   "execution_count": 38,
   "metadata": {},
   "outputs": [
    {
     "name": "stderr",
     "output_type": "stream",
     "text": [
      "279it [00:29,  9.33it/s]\n"
     ]
    }
   ],
   "source": [
    "log = []\n",
    "for idx, row in tqdm(ref_files.iterrows()):\n",
    "    ref_file = row.values[0]\n",
    "    gen_file = gen_files[0][idx]\n",
    "\n",
    "    assert ref_file.split('/')[-1].split('_')[2] == gen_file.split('/')[-1].split('_')[2]\n",
    "    mfccdtw_score = compare_mfcc(ref_file, gen_file)\n",
    "    log.append(mfccdtw_score)"
   ]
  },
  {
   "cell_type": "code",
   "execution_count": 39,
   "metadata": {},
   "outputs": [
    {
     "data": {
      "image/png": "[encoded data removed]",
      "text/plain": [
       "<Figure size 432x288 with 1 Axes>"
      ]
     },
     "metadata": {
      "needs_background": "light"
     },
     "output_type": "display_data"
    }
   ],
   "source": [
    "mu = np.mean(log)\n",
    "\n",
    "plt.hist(log, bins = 100, density = True);\n",
    "plt.title('mfcc dtw, mean {:.2f}, std {:.2f}'.format(np.mean(log), np.std(log)));"
   ]
  },
  {
   "cell_type": "code",
   "execution_count": 42,
   "metadata": {},
   "outputs": [
    {
     "name": "stderr",
     "output_type": "stream",
     "text": [
      "100%|██████████| 15/15 [08:51<00:00, 35.43s/it]\n"
     ]
    }
   ],
   "source": [
    "loglog = []\n",
    "ns = np.linspace(1e-3, 1e-2, 15)\n",
    "for noise in tqdm(ns):\n",
    "    log = []\n",
    "    for idx, row in (ref_files.iterrows()):\n",
    "        ref_file = row.values[0]\n",
    "        pesq_score = compare_mfcc_solo(ref_file, noise)\n",
    "        log.append(pesq_score)\n",
    "    loglog.append(np.mean(log))"
   ]
  },
  {
   "cell_type": "code",
   "execution_count": 43,
   "metadata": {},
   "outputs": [
    {
     "data": {
      "image/png": "[encoded data removed]",
      "text/plain": [
       "<Figure size 432x288 with 1 Axes>"
      ]
     },
     "metadata": {
      "needs_background": "light"
     },
     "output_type": "display_data"
    }
   ],
   "source": [
    "plt.plot(ns, loglog);\n",
    "plt.axhline(y = mu, color = 'tab:red');"
   ]
  },
  {
   "cell_type": "markdown",
   "metadata": {},
   "source": [
    "# stoi"
   ]
  },
  {
   "cell_type": "code",
   "execution_count": 44,
   "metadata": {},
   "outputs": [],
   "source": [
    "def calculate_stoi(reference_file, degraded_file):\n",
    "    ref, rate_ref = load_audio(reference_file)\n",
    "    deg, rate_deg = load_audio(degraded_file)\n",
    "\n",
    "    if rate_ref != rate_deg:\n",
    "        raise ValueError(\"The reference and degraded files must have the same sampling rate\")\n",
    "\n",
    "    if len(ref) > len(deg):\n",
    "        ref = ref[:len(deg)]\n",
    "    else:\n",
    "        deg = deg[:len(ref)]\n",
    "\n",
    "    stoi_score = stoi(ref, deg, rate_ref, extended=False)\n",
    "    return stoi_score"
   ]
  },
  {
   "cell_type": "code",
   "execution_count": 45,
   "metadata": {},
   "outputs": [],
   "source": [
    "def calculate_stoi_solo(reference_file, noise_level):\n",
    "    ref, rate_ref = load_audio(reference_file)\n",
    "    amplitude = max(ref) * noise_level\n",
    "    deg = ref + np.random.normal(0, amplitude, ref.shape)\n",
    "\n",
    "    stoi_score = stoi(ref, deg, rate_ref, extended=False)\n",
    "    return stoi_score"
   ]
  },
  {
   "cell_type": "code",
   "execution_count": 46,
   "metadata": {},
   "outputs": [
    {
     "name": "stderr",
     "output_type": "stream",
     "text": [
      "279it [00:24, 11.59it/s]\n"
     ]
    }
   ],
   "source": [
    "log = []\n",
    "for idx, row in tqdm(ref_files.iterrows()):\n",
    "    ref_file = row.values[0]\n",
    "    gen_file = gen_files[0][idx]\n",
    "\n",
    "    assert ref_file.split('/')[-1].split('_')[2] == gen_file.split('/')[-1].split('_')[2]\n",
    "    stoi_score = calculate_stoi(ref_file, gen_file)\n",
    "    log.append(stoi_score)"
   ]
  },
  {
   "cell_type": "code",
   "execution_count": 47,
   "metadata": {},
   "outputs": [
    {
     "data": {
      "image/png": "[encoded data removed]",
      "text/plain": [
       "<Figure size 432x288 with 1 Axes>"
      ]
     },
     "metadata": {
      "needs_background": "light"
     },
     "output_type": "display_data"
    }
   ],
   "source": [
    "mu = np.mean(log)\n",
    "\n",
    "plt.hist(log, bins = 100, density = True);\n",
    "plt.title('stoi, mean {:.2f}, std {:.2f}'.format(np.mean(log), np.std(log)));"
   ]
  },
  {
   "cell_type": "code",
   "execution_count": 49,
   "metadata": {},
   "outputs": [
    {
     "name": "stderr",
     "output_type": "stream",
     "text": [
      "100%|██████████| 15/15 [07:07<00:00, 28.52s/it]\n"
     ]
    }
   ],
   "source": [
    "loglog = []\n",
    "ns = np.linspace(1e-2, 5e-2, 15)\n",
    "for noise in tqdm(ns):\n",
    "    log = []\n",
    "    for idx, row in (ref_files.iterrows()):\n",
    "        ref_file = row.values[0]\n",
    "        pesq_score = calculate_stoi_solo(ref_file, noise)\n",
    "        log.append(pesq_score)\n",
    "    loglog.append(np.mean(log))"
   ]
  },
  {
   "cell_type": "code",
   "execution_count": 50,
   "metadata": {},
   "outputs": [
    {
     "data": {
      "image/png": "[encoded data removed]",
      "text/plain": [
       "<Figure size 432x288 with 1 Axes>"
      ]
     },
     "metadata": {
      "needs_background": "light"
     },
     "output_type": "display_data"
    }
   ],
   "source": [
    "plt.plot(ns, loglog);\n",
    "plt.axhline(y = mu, color = 'tab:red');"
   ]
  },
  {
   "cell_type": "markdown",
   "metadata": {},
   "source": [
    "# lsd"
   ]
  },
  {
   "cell_type": "code",
   "execution_count": 51,
   "metadata": {},
   "outputs": [],
   "source": [
    "def log_spectral_distance(ref_audio, deg_audio, sr):\n",
    "    ref_spec = np.log(np.abs(librosa.stft(ref_audio)) + 1e-10)\n",
    "    deg_spec = np.log(np.abs(librosa.stft(deg_audio)) + 1e-10)\n",
    "\n",
    "    lsd = np.mean(np.sqrt(np.mean((ref_spec - deg_spec) ** 2, axis=0)))\n",
    "    return lsd\n",
    "\n",
    "def calculate_lsd(reference_file, degraded_file):\n",
    "    ref, rate_ref = load_audio(reference_file)\n",
    "    deg, rate_deg = load_audio(degraded_file)\n",
    "\n",
    "    if rate_ref != rate_deg:\n",
    "        raise ValueError(\"The reference and degraded files must have the same sampling rate\")\n",
    "\n",
    "    min_len = min(len(ref), len(deg))\n",
    "    ref_audio = ref[:min_len]\n",
    "    deg_audio = deg[:min_len]\n",
    "\n",
    "    lsd = log_spectral_distance(ref_audio, deg_audio, rate_ref)\n",
    "    return lsd"
   ]
  },
  {
   "cell_type": "code",
   "execution_count": 52,
   "metadata": {},
   "outputs": [],
   "source": [
    "def calculate_lsd_solo(reference_file, noise_level):\n",
    "    ref, rate_ref = load_audio(reference_file)\n",
    "    amplitude = max(ref) * noise_level\n",
    "    deg = ref + np.random.normal(0, amplitude, ref.shape)\n",
    "\n",
    "    min_len = min(len(ref), len(deg))\n",
    "    ref_audio = ref[:min_len]\n",
    "    deg_audio = deg[:min_len]\n",
    "\n",
    "    lsd = log_spectral_distance(ref_audio, deg_audio, rate_ref)\n",
    "    return lsd"
   ]
  },
  {
   "cell_type": "code",
   "execution_count": 53,
   "metadata": {},
   "outputs": [
    {
     "name": "stderr",
     "output_type": "stream",
     "text": [
      "279it [00:06, 44.95it/s]\n"
     ]
    }
   ],
   "source": [
    "log = []\n",
    "for idx, row in tqdm(ref_files.iterrows()):\n",
    "    ref_file = row.values[0]\n",
    "    gen_file = gen_files[0][idx]\n",
    "\n",
    "    assert ref_file.split('/')[-1].split('_')[2] == gen_file.split('/')[-1].split('_')[2]\n",
    "    lsd_score = calculate_lsd(ref_file, gen_file)\n",
    "    log.append(lsd_score)"
   ]
  },
  {
   "cell_type": "code",
   "execution_count": 54,
   "metadata": {},
   "outputs": [
    {
     "data": {
      "image/png": "[encoded data removed]",
      "text/plain": [
       "<Figure size 432x288 with 1 Axes>"
      ]
     },
     "metadata": {
      "needs_background": "light"
     },
     "output_type": "display_data"
    }
   ],
   "source": [
    "mu = np.mean(log)\n",
    "\n",
    "plt.hist(log, bins = 100, density = True);\n",
    "plt.title('lsd, mean {:.2f}, std {:.2f}'.format(np.mean(log), np.std(log)));"
   ]
  },
  {
   "cell_type": "code",
   "execution_count": 55,
   "metadata": {},
   "outputs": [
    {
     "name": "stderr",
     "output_type": "stream",
     "text": [
      "100%|██████████| 15/15 [03:01<00:00, 12.08s/it]\n"
     ]
    }
   ],
   "source": [
    "loglog = []\n",
    "ns = np.linspace(1e-3, 5e-3, 15)\n",
    "for noise in tqdm(ns):\n",
    "    log = []\n",
    "    for idx, row in (ref_files.iterrows()):\n",
    "        ref_file = row.values[0]\n",
    "        pesq_score = calculate_lsd_solo(ref_file, noise)\n",
    "        log.append(pesq_score)\n",
    "    loglog.append(np.mean(log))"
   ]
  },
  {
   "cell_type": "code",
   "execution_count": 56,
   "metadata": {},
   "outputs": [
    {
     "data": {
      "image/png": "[encoded data removed]",
      "text/plain": [
       "<Figure size 432x288 with 1 Axes>"
      ]
     },
     "metadata": {
      "needs_background": "light"
     },
     "output_type": "display_data"
    }
   ],
   "source": [
    "plt.plot(ns, loglog);\n",
    "plt.axhline(y = mu, color = 'tab:red');"
   ]
  }
 ],
 "metadata": {
  "kernelspec": {
   "display_name": "wavernn",
   "language": "python",
   "name": "python3"
  },
  "language_info": {
   "codemirror_mode": {
    "name": "ipython",
    "version": 3
   },
   "file_extension": ".py",
   "mimetype": "text/x-python",
   "name": "python",
   "nbconvert_exporter": "python",
   "pygments_lexer": "ipython3",
   "version": "3.7.5"
  }
 },
 "nbformat": 4,
 "nbformat_minor": 2
}
